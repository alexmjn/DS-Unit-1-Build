{
  "nbformat": 4,
  "nbformat_minor": 0,
  "metadata": {
    "colab": {
      "name": "NBA_Injuries.ipynb",
      "provenance": [],
      "collapsed_sections": [],
      "include_colab_link": true
    },
    "kernelspec": {
      "name": "python3",
      "display_name": "Python 3"
    }
  },
  "cells": [
    {
      "cell_type": "markdown",
      "metadata": {
        "id": "view-in-github",
        "colab_type": "text"
      },
      "source": [
        "<a href=\"https://colab.research.google.com/github/alexmjn/DS-Unit-1-Build/blob/master/NBA_Injuries.ipynb\" target=\"_parent\"><img src=\"https://colab.research.google.com/assets/colab-badge.svg\" alt=\"Open In Colab\"/></a>"
      ]
    },
    {
      "cell_type": "code",
      "metadata": {
        "id": "wFESKxChWcv-",
        "colab_type": "code",
        "colab": {}
      },
      "source": [
        "import numpy as np\n",
        "import pandas as pd\n",
        "import matplotlib.pyplot as plt\n",
        "import seaborn as sns\n",
        "\n",
        "from sklearn.preprocessing import StandardScaler\n",
        "from sklearn.decomposition import PCA\n",
        "from sklearn.cluster import KMeans\n",
        "from datetime import datetime"
      ],
      "execution_count": 0,
      "outputs": []
    },
    {
      "cell_type": "code",
      "metadata": {
        "id": "hueHC3Flpf6Y",
        "colab_type": "code",
        "colab": {
          "base_uri": "https://localhost:8080/",
          "height": 34
        },
        "outputId": "a62495fd-19d8-4c6e-fbd5-884dfd1cf75b"
      },
      "source": [
        "!pwd"
      ],
      "execution_count": 95,
      "outputs": [
        {
          "output_type": "stream",
          "text": [
            "/content\n"
          ],
          "name": "stdout"
        }
      ]
    },
    {
      "cell_type": "code",
      "metadata": {
        "id": "YCu1flFNXZtV",
        "colab_type": "code",
        "outputId": "6c561c3b-5585-400f-85dd-7561df980d4a",
        "colab": {
          "base_uri": "https://localhost:8080/",
          "height": 344
        }
      },
      "source": [
        "from google.colab import files\n",
        "file = files.upload()"
      ],
      "execution_count": 6,
      "outputs": [
        {
          "output_type": "display_data",
          "data": {
            "text/html": [
              "\n",
              "     <input type=\"file\" id=\"files-ffc8576b-472a-48e2-8062-23d379e1754b\" name=\"files[]\" multiple disabled />\n",
              "     <output id=\"result-ffc8576b-472a-48e2-8062-23d379e1754b\">\n",
              "      Upload widget is only available when the cell has been executed in the\n",
              "      current browser session. Please rerun this cell to enable.\n",
              "      </output>\n",
              "      <script src=\"/nbextensions/google.colab/files.js\"></script> "
            ],
            "text/plain": [
              "<IPython.core.display.HTML object>"
            ]
          },
          "metadata": {
            "tags": []
          }
        },
        {
          "output_type": "error",
          "ename": "MessageError",
          "evalue": "ignored",
          "traceback": [
            "\u001b[0;31m---------------------------------------------------------------------------\u001b[0m",
            "\u001b[0;31mMessageError\u001b[0m                              Traceback (most recent call last)",
            "\u001b[0;32m<ipython-input-6-07cf8d6c850d>\u001b[0m in \u001b[0;36m<module>\u001b[0;34m()\u001b[0m\n\u001b[1;32m      1\u001b[0m \u001b[0;32mfrom\u001b[0m \u001b[0mgoogle\u001b[0m\u001b[0;34m.\u001b[0m\u001b[0mcolab\u001b[0m \u001b[0;32mimport\u001b[0m \u001b[0mfiles\u001b[0m\u001b[0;34m\u001b[0m\u001b[0;34m\u001b[0m\u001b[0m\n\u001b[0;32m----> 2\u001b[0;31m \u001b[0mfile\u001b[0m \u001b[0;34m=\u001b[0m \u001b[0mfiles\u001b[0m\u001b[0;34m.\u001b[0m\u001b[0mupload\u001b[0m\u001b[0;34m(\u001b[0m\u001b[0;34m)\u001b[0m\u001b[0;34m\u001b[0m\u001b[0;34m\u001b[0m\u001b[0m\n\u001b[0m",
            "\u001b[0;32m/usr/local/lib/python3.6/dist-packages/google/colab/files.py\u001b[0m in \u001b[0;36mupload\u001b[0;34m()\u001b[0m\n\u001b[1;32m     62\u001b[0m   result = _output.eval_js(\n\u001b[1;32m     63\u001b[0m       'google.colab._files._uploadFiles(\"{input_id}\", \"{output_id}\")'.format(\n\u001b[0;32m---> 64\u001b[0;31m           input_id=input_id, output_id=output_id))\n\u001b[0m\u001b[1;32m     65\u001b[0m   \u001b[0mfiles\u001b[0m \u001b[0;34m=\u001b[0m \u001b[0m_collections\u001b[0m\u001b[0;34m.\u001b[0m\u001b[0mdefaultdict\u001b[0m\u001b[0;34m(\u001b[0m\u001b[0m_six\u001b[0m\u001b[0;34m.\u001b[0m\u001b[0mbinary_type\u001b[0m\u001b[0;34m)\u001b[0m\u001b[0;34m\u001b[0m\u001b[0;34m\u001b[0m\u001b[0m\n\u001b[1;32m     66\u001b[0m   \u001b[0;31m# Mapping from original filename to filename as saved locally.\u001b[0m\u001b[0;34m\u001b[0m\u001b[0;34m\u001b[0m\u001b[0;34m\u001b[0m\u001b[0m\n",
            "\u001b[0;32m/usr/local/lib/python3.6/dist-packages/google/colab/output/_js.py\u001b[0m in \u001b[0;36meval_js\u001b[0;34m(script, ignore_result)\u001b[0m\n\u001b[1;32m     37\u001b[0m   \u001b[0;32mif\u001b[0m \u001b[0mignore_result\u001b[0m\u001b[0;34m:\u001b[0m\u001b[0;34m\u001b[0m\u001b[0;34m\u001b[0m\u001b[0m\n\u001b[1;32m     38\u001b[0m     \u001b[0;32mreturn\u001b[0m\u001b[0;34m\u001b[0m\u001b[0;34m\u001b[0m\u001b[0m\n\u001b[0;32m---> 39\u001b[0;31m   \u001b[0;32mreturn\u001b[0m \u001b[0m_message\u001b[0m\u001b[0;34m.\u001b[0m\u001b[0mread_reply_from_input\u001b[0m\u001b[0;34m(\u001b[0m\u001b[0mrequest_id\u001b[0m\u001b[0;34m)\u001b[0m\u001b[0;34m\u001b[0m\u001b[0;34m\u001b[0m\u001b[0m\n\u001b[0m\u001b[1;32m     40\u001b[0m \u001b[0;34m\u001b[0m\u001b[0m\n\u001b[1;32m     41\u001b[0m \u001b[0;34m\u001b[0m\u001b[0m\n",
            "\u001b[0;32m/usr/local/lib/python3.6/dist-packages/google/colab/_message.py\u001b[0m in \u001b[0;36mread_reply_from_input\u001b[0;34m(message_id, timeout_sec)\u001b[0m\n\u001b[1;32m    104\u001b[0m         reply.get('colab_msg_id') == message_id):\n\u001b[1;32m    105\u001b[0m       \u001b[0;32mif\u001b[0m \u001b[0;34m'error'\u001b[0m \u001b[0;32min\u001b[0m \u001b[0mreply\u001b[0m\u001b[0;34m:\u001b[0m\u001b[0;34m\u001b[0m\u001b[0;34m\u001b[0m\u001b[0m\n\u001b[0;32m--> 106\u001b[0;31m         \u001b[0;32mraise\u001b[0m \u001b[0mMessageError\u001b[0m\u001b[0;34m(\u001b[0m\u001b[0mreply\u001b[0m\u001b[0;34m[\u001b[0m\u001b[0;34m'error'\u001b[0m\u001b[0;34m]\u001b[0m\u001b[0;34m)\u001b[0m\u001b[0;34m\u001b[0m\u001b[0;34m\u001b[0m\u001b[0m\n\u001b[0m\u001b[1;32m    107\u001b[0m       \u001b[0;32mreturn\u001b[0m \u001b[0mreply\u001b[0m\u001b[0;34m.\u001b[0m\u001b[0mget\u001b[0m\u001b[0;34m(\u001b[0m\u001b[0;34m'data'\u001b[0m\u001b[0;34m,\u001b[0m \u001b[0;32mNone\u001b[0m\u001b[0;34m)\u001b[0m\u001b[0;34m\u001b[0m\u001b[0;34m\u001b[0m\u001b[0m\n\u001b[1;32m    108\u001b[0m \u001b[0;34m\u001b[0m\u001b[0m\n",
            "\u001b[0;31mMessageError\u001b[0m: TypeError: Cannot read property '_uploadFiles' of undefined"
          ]
        }
      ]
    },
    {
      "cell_type": "code",
      "metadata": {
        "id": "cMVAZUG9YS0M",
        "colab_type": "code",
        "colab": {}
      },
      "source": [
        "df = pd.read_csv(\"injuries.csv\", parse_dates = True)"
      ],
      "execution_count": 0,
      "outputs": []
    },
    {
      "cell_type": "code",
      "metadata": {
        "id": "a0S5mrCXYkj4",
        "colab_type": "code",
        "colab": {}
      },
      "source": [
        "injuries = df.copy()"
      ],
      "execution_count": 0,
      "outputs": []
    },
    {
      "cell_type": "code",
      "metadata": {
        "id": "zCuvjPR1Ysyf",
        "colab_type": "code",
        "outputId": "7440d762-f6e1-479a-8e7f-3b30933be98e",
        "colab": {
          "base_uri": "https://localhost:8080/",
          "height": 296
        }
      },
      "source": [
        "print(injuries.dtypes)\n",
        "injuries.head()"
      ],
      "execution_count": 9,
      "outputs": [
        {
          "output_type": "stream",
          "text": [
            "Date           object\n",
            "Team           object\n",
            "Acquired       object\n",
            "Relinquised    object\n",
            "Notes          object\n",
            "dtype: object\n"
          ],
          "name": "stdout"
        },
        {
          "output_type": "execute_result",
          "data": {
            "text/html": [
              "<div>\n",
              "<style scoped>\n",
              "    .dataframe tbody tr th:only-of-type {\n",
              "        vertical-align: middle;\n",
              "    }\n",
              "\n",
              "    .dataframe tbody tr th {\n",
              "        vertical-align: top;\n",
              "    }\n",
              "\n",
              "    .dataframe thead th {\n",
              "        text-align: right;\n",
              "    }\n",
              "</style>\n",
              "<table border=\"1\" class=\"dataframe\">\n",
              "  <thead>\n",
              "    <tr style=\"text-align: right;\">\n",
              "      <th></th>\n",
              "      <th>Date</th>\n",
              "      <th>Team</th>\n",
              "      <th>Acquired</th>\n",
              "      <th>Relinquised</th>\n",
              "      <th>Notes</th>\n",
              "    </tr>\n",
              "  </thead>\n",
              "  <tbody>\n",
              "    <tr>\n",
              "      <th>0</th>\n",
              "      <td>2010-10-03</td>\n",
              "      <td>Bulls</td>\n",
              "      <td>NaN</td>\n",
              "      <td>Carlos Boozer</td>\n",
              "      <td>fractured bone in right pinky finger (out inde...</td>\n",
              "    </tr>\n",
              "    <tr>\n",
              "      <th>1</th>\n",
              "      <td>2010-10-06</td>\n",
              "      <td>Pistons</td>\n",
              "      <td>NaN</td>\n",
              "      <td>Jonas Jerebko</td>\n",
              "      <td>torn right Acchilles tendon (out indefinitely)</td>\n",
              "    </tr>\n",
              "    <tr>\n",
              "      <th>2</th>\n",
              "      <td>2010-10-06</td>\n",
              "      <td>Pistons</td>\n",
              "      <td>NaN</td>\n",
              "      <td>Terrico White</td>\n",
              "      <td>broken fifth metatarsal in right foot (out ind...</td>\n",
              "    </tr>\n",
              "    <tr>\n",
              "      <th>3</th>\n",
              "      <td>2010-10-08</td>\n",
              "      <td>Blazers</td>\n",
              "      <td>NaN</td>\n",
              "      <td>Jeff Pendergraph / Jeff Ayres</td>\n",
              "      <td>torn ACL in right knee (out indefinitely)</td>\n",
              "    </tr>\n",
              "    <tr>\n",
              "      <th>4</th>\n",
              "      <td>2010-10-08</td>\n",
              "      <td>Nets</td>\n",
              "      <td>NaN</td>\n",
              "      <td>Troy Murphy</td>\n",
              "      <td>strained lower back (out indefinitely)</td>\n",
              "    </tr>\n",
              "  </tbody>\n",
              "</table>\n",
              "</div>"
            ],
            "text/plain": [
              "         Date  ...                                              Notes\n",
              "0  2010-10-03  ...  fractured bone in right pinky finger (out inde...\n",
              "1  2010-10-06  ...     torn right Acchilles tendon (out indefinitely)\n",
              "2  2010-10-06  ...  broken fifth metatarsal in right foot (out ind...\n",
              "3  2010-10-08  ...          torn ACL in right knee (out indefinitely)\n",
              "4  2010-10-08  ...             strained lower back (out indefinitely)\n",
              "\n",
              "[5 rows x 5 columns]"
            ]
          },
          "metadata": {
            "tags": []
          },
          "execution_count": 9
        }
      ]
    },
    {
      "cell_type": "code",
      "metadata": {
        "id": "oWyfElb_ZCAe",
        "colab_type": "code",
        "colab": {}
      },
      "source": [
        "injuries.columns = injuries.columns.str.lower()"
      ],
      "execution_count": 0,
      "outputs": []
    },
    {
      "cell_type": "code",
      "metadata": {
        "id": "rxx16CORZ27V",
        "colab_type": "code",
        "colab": {}
      },
      "source": [
        "injuries = injuries[injuries[\"acquired\"].isnull() == True]"
      ],
      "execution_count": 0,
      "outputs": []
    },
    {
      "cell_type": "code",
      "metadata": {
        "id": "nCE3wC24Z0OF",
        "colab_type": "code",
        "outputId": "61d9bfe5-f68d-4a15-859e-d1893e6987b2",
        "colab": {
          "base_uri": "https://localhost:8080/",
          "height": 34
        }
      },
      "source": [
        "injuries.shape"
      ],
      "execution_count": 12,
      "outputs": [
        {
          "output_type": "execute_result",
          "data": {
            "text/plain": [
              "(8194, 5)"
            ]
          },
          "metadata": {
            "tags": []
          },
          "execution_count": 12
        }
      ]
    },
    {
      "cell_type": "markdown",
      "metadata": {
        "id": "IgQjeaktZwK1",
        "colab_type": "text"
      },
      "source": [
        "The data set logs players' returns inconsistently (logging starts in 2014). For the time being, I drop those values so as to only have injury data. Next I want to remove redundant reporting of injuries by sorting the data by player and dropping data where the injury description is identical to the previous injury description and the date is within a week. \n",
        "\n",
        "It would be nice to have statistics such as \"how soon players return from injury X.\" If that's possible in this data set, it'd have to start in the later years. It also looks like major injuries are only logged once and then returns are often not logged. "
      ]
    },
    {
      "cell_type": "code",
      "metadata": {
        "id": "k8_rRNrWr1dU",
        "colab_type": "code",
        "colab": {
          "base_uri": "https://localhost:8080/",
          "height": 118
        },
        "outputId": "de93c9a3-ade2-4c33-e399-f624abc9337f"
      },
      "source": [
        "injuries.dtypes"
      ],
      "execution_count": 13,
      "outputs": [
        {
          "output_type": "execute_result",
          "data": {
            "text/plain": [
              "date           object\n",
              "team           object\n",
              "acquired       object\n",
              "relinquised    object\n",
              "notes          object\n",
              "dtype: object"
            ]
          },
          "metadata": {
            "tags": []
          },
          "execution_count": 13
        }
      ]
    },
    {
      "cell_type": "code",
      "metadata": {
        "id": "4arfrxoWZLjX",
        "colab_type": "code",
        "outputId": "0eecd9a4-9cea-41a9-c904-877e5aa511de",
        "colab": {
          "base_uri": "https://localhost:8080/",
          "height": 195
        }
      },
      "source": [
        "injuries[\"date\"] = pd.to_datetime(injuries[\"date\"], infer_datetime_format = True)\n",
        "injuries[\"notes\"] = injuries[\"notes\"].apply(str.lower)\n",
        "injuries = injuries.rename(columns={\"relinquised\":\"player\"})\n",
        "injuries = injuries.drop([\"acquired\"], axis = 1)\n",
        "injuries.head()"
      ],
      "execution_count": 14,
      "outputs": [
        {
          "output_type": "execute_result",
          "data": {
            "text/html": [
              "<div>\n",
              "<style scoped>\n",
              "    .dataframe tbody tr th:only-of-type {\n",
              "        vertical-align: middle;\n",
              "    }\n",
              "\n",
              "    .dataframe tbody tr th {\n",
              "        vertical-align: top;\n",
              "    }\n",
              "\n",
              "    .dataframe thead th {\n",
              "        text-align: right;\n",
              "    }\n",
              "</style>\n",
              "<table border=\"1\" class=\"dataframe\">\n",
              "  <thead>\n",
              "    <tr style=\"text-align: right;\">\n",
              "      <th></th>\n",
              "      <th>date</th>\n",
              "      <th>team</th>\n",
              "      <th>player</th>\n",
              "      <th>notes</th>\n",
              "    </tr>\n",
              "  </thead>\n",
              "  <tbody>\n",
              "    <tr>\n",
              "      <th>0</th>\n",
              "      <td>2010-10-03</td>\n",
              "      <td>Bulls</td>\n",
              "      <td>Carlos Boozer</td>\n",
              "      <td>fractured bone in right pinky finger (out inde...</td>\n",
              "    </tr>\n",
              "    <tr>\n",
              "      <th>1</th>\n",
              "      <td>2010-10-06</td>\n",
              "      <td>Pistons</td>\n",
              "      <td>Jonas Jerebko</td>\n",
              "      <td>torn right acchilles tendon (out indefinitely)</td>\n",
              "    </tr>\n",
              "    <tr>\n",
              "      <th>2</th>\n",
              "      <td>2010-10-06</td>\n",
              "      <td>Pistons</td>\n",
              "      <td>Terrico White</td>\n",
              "      <td>broken fifth metatarsal in right foot (out ind...</td>\n",
              "    </tr>\n",
              "    <tr>\n",
              "      <th>3</th>\n",
              "      <td>2010-10-08</td>\n",
              "      <td>Blazers</td>\n",
              "      <td>Jeff Pendergraph / Jeff Ayres</td>\n",
              "      <td>torn acl in right knee (out indefinitely)</td>\n",
              "    </tr>\n",
              "    <tr>\n",
              "      <th>4</th>\n",
              "      <td>2010-10-08</td>\n",
              "      <td>Nets</td>\n",
              "      <td>Troy Murphy</td>\n",
              "      <td>strained lower back (out indefinitely)</td>\n",
              "    </tr>\n",
              "  </tbody>\n",
              "</table>\n",
              "</div>"
            ],
            "text/plain": [
              "        date  ...                                              notes\n",
              "0 2010-10-03  ...  fractured bone in right pinky finger (out inde...\n",
              "1 2010-10-06  ...     torn right acchilles tendon (out indefinitely)\n",
              "2 2010-10-06  ...  broken fifth metatarsal in right foot (out ind...\n",
              "3 2010-10-08  ...          torn acl in right knee (out indefinitely)\n",
              "4 2010-10-08  ...             strained lower back (out indefinitely)\n",
              "\n",
              "[5 rows x 4 columns]"
            ]
          },
          "metadata": {
            "tags": []
          },
          "execution_count": 14
        }
      ]
    },
    {
      "cell_type": "markdown",
      "metadata": {
        "id": "zQLa28v6bGtF",
        "colab_type": "text"
      },
      "source": [
        "Rest is inconsistently logged as either \"DNP\" or \"Rest (DNP)\". To ensure consistency, I log each as the former."
      ]
    },
    {
      "cell_type": "code",
      "metadata": {
        "id": "auqY_lYqbUhi",
        "colab_type": "code",
        "colab": {}
      },
      "source": [
        "injuries[\"notes\"] = injuries[\"notes\"].replace({\"dnp\":\"rest (dnp)\"})"
      ],
      "execution_count": 0,
      "outputs": []
    },
    {
      "cell_type": "code",
      "metadata": {
        "id": "FGpPc3eCb62V",
        "colab_type": "code",
        "colab": {
          "base_uri": "https://localhost:8080/",
          "height": 118
        },
        "outputId": "5efffc33-b89e-4a32-b11e-59eeef3d17cc"
      },
      "source": [
        "injuries[\"notes\"].value_counts().head()"
      ],
      "execution_count": 16,
      "outputs": [
        {
          "output_type": "execute_result",
          "data": {
            "text/plain": [
              "sprained left ankle (dnp)     362\n",
              "rest (dtd)                    288\n",
              "rest (dnp)                    191\n",
              "sprained right ankle (dnp)    175\n",
              "illness (dtd)                 149\n",
              "Name: notes, dtype: int64"
            ]
          },
          "metadata": {
            "tags": []
          },
          "execution_count": 16
        }
      ]
    },
    {
      "cell_type": "markdown",
      "metadata": {
        "id": "fKvVtQqjuFWU",
        "colab_type": "text"
      },
      "source": [
        "It's interesting that sprained left ankles are so much more common than sprained right ankles. I'm assuming this has something to do with biomechanics of right-footed players. Anyway, it's clear this is not perfect -- rest is logged as two different things -- but, since this column is for feature engineering, we don't have to worry about exact matches as long as they contain the right word. "
      ]
    },
    {
      "cell_type": "code",
      "metadata": {
        "id": "HWIdMU3VupbC",
        "colab_type": "code",
        "colab": {
          "base_uri": "https://localhost:8080/",
          "height": 101
        },
        "outputId": "89c8149a-5578-4262-c22d-9313c1e07f4d"
      },
      "source": [
        "injuries.isnull().sum()"
      ],
      "execution_count": 17,
      "outputs": [
        {
          "output_type": "execute_result",
          "data": {
            "text/plain": [
              "date      0\n",
              "team      3\n",
              "player    0\n",
              "notes     0\n",
              "dtype: int64"
            ]
          },
          "metadata": {
            "tags": []
          },
          "execution_count": 17
        }
      ]
    },
    {
      "cell_type": "code",
      "metadata": {
        "id": "y4jbSH0gvC09",
        "colab_type": "code",
        "colab": {
          "base_uri": "https://localhost:8080/",
          "height": 136
        },
        "outputId": "fc06a32a-05d6-49e5-ddf0-e495ff9bb117"
      },
      "source": [
        "injuries[injuries[\"team\"].isnull() == True]"
      ],
      "execution_count": 18,
      "outputs": [
        {
          "output_type": "execute_result",
          "data": {
            "text/html": [
              "<div>\n",
              "<style scoped>\n",
              "    .dataframe tbody tr th:only-of-type {\n",
              "        vertical-align: middle;\n",
              "    }\n",
              "\n",
              "    .dataframe tbody tr th {\n",
              "        vertical-align: top;\n",
              "    }\n",
              "\n",
              "    .dataframe thead th {\n",
              "        text-align: right;\n",
              "    }\n",
              "</style>\n",
              "<table border=\"1\" class=\"dataframe\">\n",
              "  <thead>\n",
              "    <tr style=\"text-align: right;\">\n",
              "      <th></th>\n",
              "      <th>date</th>\n",
              "      <th>team</th>\n",
              "      <th>player</th>\n",
              "      <th>notes</th>\n",
              "    </tr>\n",
              "  </thead>\n",
              "  <tbody>\n",
              "    <tr>\n",
              "      <th>6330</th>\n",
              "      <td>2015-09-02</td>\n",
              "      <td>NaN</td>\n",
              "      <td>Glen Davis</td>\n",
              "      <td>surgery on left ankle to repair torn ligaments...</td>\n",
              "    </tr>\n",
              "    <tr>\n",
              "      <th>6332</th>\n",
              "      <td>2015-09-03</td>\n",
              "      <td>NaN</td>\n",
              "      <td>Landry Fields</td>\n",
              "      <td>surgery on hip to repair torn labrum (out inde...</td>\n",
              "    </tr>\n",
              "    <tr>\n",
              "      <th>8349</th>\n",
              "      <td>2017-02-08</td>\n",
              "      <td>NaN</td>\n",
              "      <td>Dragan Bender</td>\n",
              "      <td>surgery on right ankle to remove bone spur (ou...</td>\n",
              "    </tr>\n",
              "  </tbody>\n",
              "</table>\n",
              "</div>"
            ],
            "text/plain": [
              "           date  ...                                              notes\n",
              "6330 2015-09-02  ...  surgery on left ankle to repair torn ligaments...\n",
              "6332 2015-09-03  ...  surgery on hip to repair torn labrum (out inde...\n",
              "8349 2017-02-08  ...  surgery on right ankle to remove bone spur (ou...\n",
              "\n",
              "[3 rows x 4 columns]"
            ]
          },
          "metadata": {
            "tags": []
          },
          "execution_count": 18
        }
      ]
    },
    {
      "cell_type": "markdown",
      "metadata": {
        "id": "IEvcCLKRvqIm",
        "colab_type": "text"
      },
      "source": [
        "From research, I see that the NaN values here represent when a player had surgery while he was not under contract with a team (a free agent or had been waived). So I replace the missing values with \"None\"."
      ]
    },
    {
      "cell_type": "code",
      "metadata": {
        "id": "PUn6Rz-fvIoX",
        "colab_type": "code",
        "colab": {}
      },
      "source": [
        "injuries[\"team\"] = injuries[\"team\"].replace({np.NaN: \"None\"})"
      ],
      "execution_count": 0,
      "outputs": []
    },
    {
      "cell_type": "code",
      "metadata": {
        "id": "XggHj_Lkvbt_",
        "colab_type": "code",
        "colab": {
          "base_uri": "https://localhost:8080/",
          "height": 101
        },
        "outputId": "2be4d2a4-eb86-4c23-c4e4-49486086d3b3"
      },
      "source": [
        "injuries.isnull().sum()"
      ],
      "execution_count": 20,
      "outputs": [
        {
          "output_type": "execute_result",
          "data": {
            "text/plain": [
              "date      0\n",
              "team      0\n",
              "player    0\n",
              "notes     0\n",
              "dtype: int64"
            ]
          },
          "metadata": {
            "tags": []
          },
          "execution_count": 20
        }
      ]
    },
    {
      "cell_type": "code",
      "metadata": {
        "id": "HVSOY9bYvitQ",
        "colab_type": "code",
        "colab": {
          "base_uri": "https://localhost:8080/",
          "height": 101
        },
        "outputId": "8833260e-42ca-40a2-902d-5a4c0b9e3955"
      },
      "source": [
        "injuries.dtypes"
      ],
      "execution_count": 21,
      "outputs": [
        {
          "output_type": "execute_result",
          "data": {
            "text/plain": [
              "date      datetime64[ns]\n",
              "team              object\n",
              "player            object\n",
              "notes             object\n",
              "dtype: object"
            ]
          },
          "metadata": {
            "tags": []
          },
          "execution_count": 21
        }
      ]
    },
    {
      "cell_type": "code",
      "metadata": {
        "id": "c9AGB_wy7GtS",
        "colab_type": "code",
        "colab": {
          "base_uri": "https://localhost:8080/",
          "height": 639
        },
        "outputId": "0822b474-ce35-4393-fb37-394b3c15be9a"
      },
      "source": [
        "injuries = injuries.sort_values(by = [\"player\", \"date\"])\n",
        "injuries.head(20)"
      ],
      "execution_count": 22,
      "outputs": [
        {
          "output_type": "execute_result",
          "data": {
            "text/html": [
              "<div>\n",
              "<style scoped>\n",
              "    .dataframe tbody tr th:only-of-type {\n",
              "        vertical-align: middle;\n",
              "    }\n",
              "\n",
              "    .dataframe tbody tr th {\n",
              "        vertical-align: top;\n",
              "    }\n",
              "\n",
              "    .dataframe thead th {\n",
              "        text-align: right;\n",
              "    }\n",
              "</style>\n",
              "<table border=\"1\" class=\"dataframe\">\n",
              "  <thead>\n",
              "    <tr style=\"text-align: right;\">\n",
              "      <th></th>\n",
              "      <th>date</th>\n",
              "      <th>team</th>\n",
              "      <th>player</th>\n",
              "      <th>notes</th>\n",
              "    </tr>\n",
              "  </thead>\n",
              "  <tbody>\n",
              "    <tr>\n",
              "      <th>501</th>\n",
              "      <td>2011-02-28</td>\n",
              "      <td>Spurs</td>\n",
              "      <td>(William) Tony Parker</td>\n",
              "      <td>strained left calf muscle (out indefinitely)</td>\n",
              "    </tr>\n",
              "    <tr>\n",
              "      <th>630</th>\n",
              "      <td>2011-03-28</td>\n",
              "      <td>Spurs</td>\n",
              "      <td>(William) Tony Parker</td>\n",
              "      <td>bruised left patella (dnp)</td>\n",
              "    </tr>\n",
              "    <tr>\n",
              "      <th>777</th>\n",
              "      <td>2011-04-12</td>\n",
              "      <td>Spurs</td>\n",
              "      <td>(William) Tony Parker</td>\n",
              "      <td>rest (dnp)</td>\n",
              "    </tr>\n",
              "    <tr>\n",
              "      <th>1379</th>\n",
              "      <td>2012-02-21</td>\n",
              "      <td>Spurs</td>\n",
              "      <td>(William) Tony Parker</td>\n",
              "      <td>rest (dnp)</td>\n",
              "    </tr>\n",
              "    <tr>\n",
              "      <th>1645</th>\n",
              "      <td>2012-03-23</td>\n",
              "      <td>Spurs</td>\n",
              "      <td>(William) Tony Parker</td>\n",
              "      <td>sore left hamstring (dnp)</td>\n",
              "    </tr>\n",
              "    <tr>\n",
              "      <th>1864</th>\n",
              "      <td>2012-04-09</td>\n",
              "      <td>Spurs</td>\n",
              "      <td>(William) Tony Parker</td>\n",
              "      <td>rest (dnp)</td>\n",
              "    </tr>\n",
              "    <tr>\n",
              "      <th>2347</th>\n",
              "      <td>2012-11-29</td>\n",
              "      <td>Spurs</td>\n",
              "      <td>(William) Tony Parker</td>\n",
              "      <td>rest (dnp)</td>\n",
              "    </tr>\n",
              "    <tr>\n",
              "      <th>2889</th>\n",
              "      <td>2013-02-11</td>\n",
              "      <td>Spurs</td>\n",
              "      <td>(William) Tony Parker</td>\n",
              "      <td>knee injury (dnp)</td>\n",
              "    </tr>\n",
              "    <tr>\n",
              "      <th>2930</th>\n",
              "      <td>2013-02-24</td>\n",
              "      <td>Spurs</td>\n",
              "      <td>(William) Tony Parker</td>\n",
              "      <td>sore triceps (dnp)</td>\n",
              "    </tr>\n",
              "    <tr>\n",
              "      <th>2963</th>\n",
              "      <td>2013-03-02</td>\n",
              "      <td>Spurs</td>\n",
              "      <td>(William) Tony Parker</td>\n",
              "      <td>sprained left ankle (out indefinitely)</td>\n",
              "    </tr>\n",
              "    <tr>\n",
              "      <th>3222</th>\n",
              "      <td>2013-04-03</td>\n",
              "      <td>Spurs</td>\n",
              "      <td>(William) Tony Parker</td>\n",
              "      <td>sore left ankle (dnp)</td>\n",
              "    </tr>\n",
              "    <tr>\n",
              "      <th>3354</th>\n",
              "      <td>2013-04-15</td>\n",
              "      <td>Spurs</td>\n",
              "      <td>(William) Tony Parker</td>\n",
              "      <td>sore neck (dnp)</td>\n",
              "    </tr>\n",
              "    <tr>\n",
              "      <th>4165</th>\n",
              "      <td>2014-01-19</td>\n",
              "      <td>Spurs</td>\n",
              "      <td>(William) Tony Parker</td>\n",
              "      <td>bruised right shin (dnp)</td>\n",
              "    </tr>\n",
              "    <tr>\n",
              "      <th>4424</th>\n",
              "      <td>2014-02-12</td>\n",
              "      <td>Spurs</td>\n",
              "      <td>(William) Tony Parker</td>\n",
              "      <td>rest (dnp)</td>\n",
              "    </tr>\n",
              "    <tr>\n",
              "      <th>4770</th>\n",
              "      <td>2014-03-24</td>\n",
              "      <td>Spurs</td>\n",
              "      <td>(William) Tony Parker</td>\n",
              "      <td>left achilles injury (dnp)</td>\n",
              "    </tr>\n",
              "    <tr>\n",
              "      <th>5400</th>\n",
              "      <td>2014-12-01</td>\n",
              "      <td>Spurs</td>\n",
              "      <td>(William) Tony Parker</td>\n",
              "      <td>bruised ribs (dtd)</td>\n",
              "    </tr>\n",
              "    <tr>\n",
              "      <th>5424</th>\n",
              "      <td>2014-12-06</td>\n",
              "      <td>Spurs</td>\n",
              "      <td>(William) Tony Parker</td>\n",
              "      <td>strained left hamstring (dtd)</td>\n",
              "    </tr>\n",
              "    <tr>\n",
              "      <th>5539</th>\n",
              "      <td>2014-12-26</td>\n",
              "      <td>Spurs</td>\n",
              "      <td>(William) Tony Parker</td>\n",
              "      <td>strained hamstring (dtd)</td>\n",
              "    </tr>\n",
              "    <tr>\n",
              "      <th>6879</th>\n",
              "      <td>2016-01-20</td>\n",
              "      <td>Spurs</td>\n",
              "      <td>(William) Tony Parker</td>\n",
              "      <td>right hip injury (dtd)</td>\n",
              "    </tr>\n",
              "    <tr>\n",
              "      <th>7026</th>\n",
              "      <td>2016-02-10</td>\n",
              "      <td>Spurs</td>\n",
              "      <td>(William) Tony Parker</td>\n",
              "      <td>left ankle injury (dtd)</td>\n",
              "    </tr>\n",
              "  </tbody>\n",
              "</table>\n",
              "</div>"
            ],
            "text/plain": [
              "           date  ...                                         notes\n",
              "501  2011-02-28  ...  strained left calf muscle (out indefinitely)\n",
              "630  2011-03-28  ...                    bruised left patella (dnp)\n",
              "777  2011-04-12  ...                                    rest (dnp)\n",
              "1379 2012-02-21  ...                                    rest (dnp)\n",
              "1645 2012-03-23  ...                     sore left hamstring (dnp)\n",
              "1864 2012-04-09  ...                                    rest (dnp)\n",
              "2347 2012-11-29  ...                                    rest (dnp)\n",
              "2889 2013-02-11  ...                             knee injury (dnp)\n",
              "2930 2013-02-24  ...                            sore triceps (dnp)\n",
              "2963 2013-03-02  ...        sprained left ankle (out indefinitely)\n",
              "3222 2013-04-03  ...                         sore left ankle (dnp)\n",
              "3354 2013-04-15  ...                               sore neck (dnp)\n",
              "4165 2014-01-19  ...                      bruised right shin (dnp)\n",
              "4424 2014-02-12  ...                                    rest (dnp)\n",
              "4770 2014-03-24  ...                    left achilles injury (dnp)\n",
              "5400 2014-12-01  ...                            bruised ribs (dtd)\n",
              "5424 2014-12-06  ...                 strained left hamstring (dtd)\n",
              "5539 2014-12-26  ...                      strained hamstring (dtd)\n",
              "6879 2016-01-20  ...                        right hip injury (dtd)\n",
              "7026 2016-02-10  ...                       left ankle injury (dtd)\n",
              "\n",
              "[20 rows x 4 columns]"
            ]
          },
          "metadata": {
            "tags": []
          },
          "execution_count": 22
        }
      ]
    },
    {
      "cell_type": "code",
      "metadata": {
        "id": "tX-EQ2qk89uP",
        "colab_type": "code",
        "colab": {}
      },
      "source": [
        "# reset index for clean subsetting\n",
        "injuries = injuries.reset_index(drop = True)"
      ],
      "execution_count": 0,
      "outputs": []
    },
    {
      "cell_type": "code",
      "metadata": {
        "id": "FiN1FfgNv2am",
        "colab_type": "code",
        "colab": {}
      },
      "source": [
        "def clean_injuries(df):\n",
        "  redundant_rows = []\n",
        "\n",
        "  for i in range(1, df.shape[0]):\n",
        "    if (df[\"player\"][i] == df[\"player\"][i-1])&(df[\"notes\"][i] == df[\"notes\"][i-1])&((df[\"date\"][i] - df[\"date\"][i - 1]).days < 10)&((\"rest\" in df[\"notes\"][i]) == False):\n",
        "      redundant_rows.append(i)\n",
        "\n",
        "  df = df.drop(redundant_rows)\n",
        "  df = df.reset_index(drop = True)\n",
        "\n",
        "  return df\n"
      ],
      "execution_count": 0,
      "outputs": []
    },
    {
      "cell_type": "code",
      "metadata": {
        "id": "PsUWm8_9JD5A",
        "colab_type": "code",
        "colab": {
          "base_uri": "https://localhost:8080/",
          "height": 418
        },
        "outputId": "942973fd-98d0-42e7-e7b3-96dd72448a5d"
      },
      "source": [
        "cl_injuries = clean_injuries(injuries)\n",
        "print(cl_injuries.shape)\n",
        "cl_injuries.head(100)"
      ],
      "execution_count": 25,
      "outputs": [
        {
          "output_type": "stream",
          "text": [
            "(5482, 4)\n"
          ],
          "name": "stdout"
        },
        {
          "output_type": "execute_result",
          "data": {
            "text/html": [
              "<div>\n",
              "<style scoped>\n",
              "    .dataframe tbody tr th:only-of-type {\n",
              "        vertical-align: middle;\n",
              "    }\n",
              "\n",
              "    .dataframe tbody tr th {\n",
              "        vertical-align: top;\n",
              "    }\n",
              "\n",
              "    .dataframe thead th {\n",
              "        text-align: right;\n",
              "    }\n",
              "</style>\n",
              "<table border=\"1\" class=\"dataframe\">\n",
              "  <thead>\n",
              "    <tr style=\"text-align: right;\">\n",
              "      <th></th>\n",
              "      <th>date</th>\n",
              "      <th>team</th>\n",
              "      <th>player</th>\n",
              "      <th>notes</th>\n",
              "    </tr>\n",
              "  </thead>\n",
              "  <tbody>\n",
              "    <tr>\n",
              "      <th>0</th>\n",
              "      <td>2011-02-28</td>\n",
              "      <td>Spurs</td>\n",
              "      <td>(William) Tony Parker</td>\n",
              "      <td>strained left calf muscle (out indefinitely)</td>\n",
              "    </tr>\n",
              "    <tr>\n",
              "      <th>1</th>\n",
              "      <td>2011-03-28</td>\n",
              "      <td>Spurs</td>\n",
              "      <td>(William) Tony Parker</td>\n",
              "      <td>bruised left patella (dnp)</td>\n",
              "    </tr>\n",
              "    <tr>\n",
              "      <th>2</th>\n",
              "      <td>2011-04-12</td>\n",
              "      <td>Spurs</td>\n",
              "      <td>(William) Tony Parker</td>\n",
              "      <td>rest (dnp)</td>\n",
              "    </tr>\n",
              "    <tr>\n",
              "      <th>3</th>\n",
              "      <td>2012-02-21</td>\n",
              "      <td>Spurs</td>\n",
              "      <td>(William) Tony Parker</td>\n",
              "      <td>rest (dnp)</td>\n",
              "    </tr>\n",
              "    <tr>\n",
              "      <th>4</th>\n",
              "      <td>2012-03-23</td>\n",
              "      <td>Spurs</td>\n",
              "      <td>(William) Tony Parker</td>\n",
              "      <td>sore left hamstring (dnp)</td>\n",
              "    </tr>\n",
              "    <tr>\n",
              "      <th>...</th>\n",
              "      <td>...</td>\n",
              "      <td>...</td>\n",
              "      <td>...</td>\n",
              "      <td>...</td>\n",
              "    </tr>\n",
              "    <tr>\n",
              "      <th>95</th>\n",
              "      <td>2014-04-28</td>\n",
              "      <td>Bobcats</td>\n",
              "      <td>Al Jefferson</td>\n",
              "      <td>strained plantar fascia in left foot (dnp)</td>\n",
              "    </tr>\n",
              "    <tr>\n",
              "      <th>96</th>\n",
              "      <td>2014-12-31</td>\n",
              "      <td>Hornets</td>\n",
              "      <td>Al Jefferson</td>\n",
              "      <td>strained adductor muscle in left groin (out in...</td>\n",
              "    </tr>\n",
              "    <tr>\n",
              "      <th>97</th>\n",
              "      <td>2015-04-04</td>\n",
              "      <td>Hornets</td>\n",
              "      <td>Al Jefferson</td>\n",
              "      <td>sore right knee (out for season)</td>\n",
              "    </tr>\n",
              "    <tr>\n",
              "      <th>98</th>\n",
              "      <td>2015-11-30</td>\n",
              "      <td>Hornets</td>\n",
              "      <td>Al Jefferson</td>\n",
              "      <td>strained left calf (out indefinitely)</td>\n",
              "    </tr>\n",
              "    <tr>\n",
              "      <th>99</th>\n",
              "      <td>2015-12-30</td>\n",
              "      <td>Hornets</td>\n",
              "      <td>Al Jefferson</td>\n",
              "      <td>torn lateral meniscus in right knee (out indef...</td>\n",
              "    </tr>\n",
              "  </tbody>\n",
              "</table>\n",
              "<p>100 rows × 4 columns</p>\n",
              "</div>"
            ],
            "text/plain": [
              "         date  ...                                              notes\n",
              "0  2011-02-28  ...       strained left calf muscle (out indefinitely)\n",
              "1  2011-03-28  ...                         bruised left patella (dnp)\n",
              "2  2011-04-12  ...                                         rest (dnp)\n",
              "3  2012-02-21  ...                                         rest (dnp)\n",
              "4  2012-03-23  ...                          sore left hamstring (dnp)\n",
              "..        ...  ...                                                ...\n",
              "95 2014-04-28  ...         strained plantar fascia in left foot (dnp)\n",
              "96 2014-12-31  ...  strained adductor muscle in left groin (out in...\n",
              "97 2015-04-04  ...                   sore right knee (out for season)\n",
              "98 2015-11-30  ...              strained left calf (out indefinitely)\n",
              "99 2015-12-30  ...  torn lateral meniscus in right knee (out indef...\n",
              "\n",
              "[100 rows x 4 columns]"
            ]
          },
          "metadata": {
            "tags": []
          },
          "execution_count": 25
        }
      ]
    },
    {
      "cell_type": "markdown",
      "metadata": {
        "id": "kf9bwz0dN1_Y",
        "colab_type": "text"
      },
      "source": [
        "Looks like we got rid of the redundant injuries! Now every row represents (approximately) either a discrete injury or a voluntary day of rest."
      ]
    },
    {
      "cell_type": "markdown",
      "metadata": {
        "id": "rLzWKQMLjw7f",
        "colab_type": "text"
      },
      "source": [
        "Now that the data set is cleaned, it's time to engineer some features so that we can analyze the data. I'll start by adding features that represent the month and year for each injury, so that I can analyze how injury and rest rates change throughout individual seasons and across the "
      ]
    },
    {
      "cell_type": "code",
      "metadata": {
        "id": "ZpX9jG_WjtGH",
        "colab_type": "code",
        "colab": {
          "base_uri": "https://localhost:8080/",
          "height": 1000
        },
        "outputId": "df5a4b08-10f4-450b-8e16-4c27228517d9"
      },
      "source": [
        "cl_injuries[\"month\"] = (cl_injuries[\"date\"].dt.month - 9) % 12 \n",
        "cl_injuries[\"year\"] = cl_injuries[\"date\"].dt.year\n",
        "cl_injuries.head(20)"
      ],
      "execution_count": 51,
      "outputs": [
        {
          "output_type": "execute_result",
          "data": {
            "text/html": [
              "<div>\n",
              "<style scoped>\n",
              "    .dataframe tbody tr th:only-of-type {\n",
              "        vertical-align: middle;\n",
              "    }\n",
              "\n",
              "    .dataframe tbody tr th {\n",
              "        vertical-align: top;\n",
              "    }\n",
              "\n",
              "    .dataframe thead th {\n",
              "        text-align: right;\n",
              "    }\n",
              "</style>\n",
              "<table border=\"1\" class=\"dataframe\">\n",
              "  <thead>\n",
              "    <tr style=\"text-align: right;\">\n",
              "      <th></th>\n",
              "      <th>date</th>\n",
              "      <th>team</th>\n",
              "      <th>player</th>\n",
              "      <th>notes</th>\n",
              "      <th>month</th>\n",
              "      <th>year</th>\n",
              "      <th>season</th>\n",
              "      <th>days_since_start</th>\n",
              "      <th>achilles</th>\n",
              "      <th>knee</th>\n",
              "      <th>foot</th>\n",
              "      <th>hand</th>\n",
              "      <th>ankle</th>\n",
              "      <th>back</th>\n",
              "      <th>hip</th>\n",
              "      <th>wrist</th>\n",
              "      <th>hamstring</th>\n",
              "      <th>quadriceps</th>\n",
              "      <th>neck</th>\n",
              "      <th>calf</th>\n",
              "      <th>thumb</th>\n",
              "      <th>elbow</th>\n",
              "      <th>shoulder</th>\n",
              "      <th>groin</th>\n",
              "      <th>concussion</th>\n",
              "      <th>finger</th>\n",
              "      <th>illness</th>\n",
              "    </tr>\n",
              "  </thead>\n",
              "  <tbody>\n",
              "    <tr>\n",
              "      <th>0</th>\n",
              "      <td>2011-02-28</td>\n",
              "      <td>Spurs</td>\n",
              "      <td>(William) Tony Parker</td>\n",
              "      <td>strained left calf muscle (out indefinitely)</td>\n",
              "      <td>5</td>\n",
              "      <td>2011</td>\n",
              "      <td>2011.0</td>\n",
              "      <td>125</td>\n",
              "      <td>False</td>\n",
              "      <td>False</td>\n",
              "      <td>False</td>\n",
              "      <td>False</td>\n",
              "      <td>False</td>\n",
              "      <td>False</td>\n",
              "      <td>False</td>\n",
              "      <td>False</td>\n",
              "      <td>False</td>\n",
              "      <td>False</td>\n",
              "      <td>False</td>\n",
              "      <td>True</td>\n",
              "      <td>False</td>\n",
              "      <td>False</td>\n",
              "      <td>False</td>\n",
              "      <td>False</td>\n",
              "      <td>False</td>\n",
              "      <td>False</td>\n",
              "      <td>False</td>\n",
              "    </tr>\n",
              "    <tr>\n",
              "      <th>1</th>\n",
              "      <td>2011-03-28</td>\n",
              "      <td>Spurs</td>\n",
              "      <td>(William) Tony Parker</td>\n",
              "      <td>bruised left patella (dnp)</td>\n",
              "      <td>6</td>\n",
              "      <td>2011</td>\n",
              "      <td>2011.0</td>\n",
              "      <td>153</td>\n",
              "      <td>False</td>\n",
              "      <td>False</td>\n",
              "      <td>False</td>\n",
              "      <td>False</td>\n",
              "      <td>False</td>\n",
              "      <td>False</td>\n",
              "      <td>False</td>\n",
              "      <td>False</td>\n",
              "      <td>False</td>\n",
              "      <td>False</td>\n",
              "      <td>False</td>\n",
              "      <td>False</td>\n",
              "      <td>False</td>\n",
              "      <td>False</td>\n",
              "      <td>False</td>\n",
              "      <td>False</td>\n",
              "      <td>False</td>\n",
              "      <td>False</td>\n",
              "      <td>False</td>\n",
              "    </tr>\n",
              "    <tr>\n",
              "      <th>2</th>\n",
              "      <td>2011-04-12</td>\n",
              "      <td>Spurs</td>\n",
              "      <td>(William) Tony Parker</td>\n",
              "      <td>rest (dnp)</td>\n",
              "      <td>7</td>\n",
              "      <td>2011</td>\n",
              "      <td>2011.0</td>\n",
              "      <td>168</td>\n",
              "      <td>False</td>\n",
              "      <td>False</td>\n",
              "      <td>False</td>\n",
              "      <td>False</td>\n",
              "      <td>False</td>\n",
              "      <td>False</td>\n",
              "      <td>False</td>\n",
              "      <td>False</td>\n",
              "      <td>False</td>\n",
              "      <td>False</td>\n",
              "      <td>False</td>\n",
              "      <td>False</td>\n",
              "      <td>False</td>\n",
              "      <td>False</td>\n",
              "      <td>False</td>\n",
              "      <td>False</td>\n",
              "      <td>False</td>\n",
              "      <td>False</td>\n",
              "      <td>False</td>\n",
              "    </tr>\n",
              "    <tr>\n",
              "      <th>3</th>\n",
              "      <td>2012-02-21</td>\n",
              "      <td>Spurs</td>\n",
              "      <td>(William) Tony Parker</td>\n",
              "      <td>rest (dnp)</td>\n",
              "      <td>5</td>\n",
              "      <td>2012</td>\n",
              "      <td>2012.0</td>\n",
              "      <td>58</td>\n",
              "      <td>False</td>\n",
              "      <td>False</td>\n",
              "      <td>False</td>\n",
              "      <td>False</td>\n",
              "      <td>False</td>\n",
              "      <td>False</td>\n",
              "      <td>False</td>\n",
              "      <td>False</td>\n",
              "      <td>False</td>\n",
              "      <td>False</td>\n",
              "      <td>False</td>\n",
              "      <td>False</td>\n",
              "      <td>False</td>\n",
              "      <td>False</td>\n",
              "      <td>False</td>\n",
              "      <td>False</td>\n",
              "      <td>False</td>\n",
              "      <td>False</td>\n",
              "      <td>False</td>\n",
              "    </tr>\n",
              "    <tr>\n",
              "      <th>4</th>\n",
              "      <td>2012-03-23</td>\n",
              "      <td>Spurs</td>\n",
              "      <td>(William) Tony Parker</td>\n",
              "      <td>sore left hamstring (dnp)</td>\n",
              "      <td>6</td>\n",
              "      <td>2012</td>\n",
              "      <td>2012.0</td>\n",
              "      <td>89</td>\n",
              "      <td>False</td>\n",
              "      <td>False</td>\n",
              "      <td>False</td>\n",
              "      <td>False</td>\n",
              "      <td>False</td>\n",
              "      <td>False</td>\n",
              "      <td>False</td>\n",
              "      <td>False</td>\n",
              "      <td>True</td>\n",
              "      <td>False</td>\n",
              "      <td>False</td>\n",
              "      <td>False</td>\n",
              "      <td>False</td>\n",
              "      <td>False</td>\n",
              "      <td>False</td>\n",
              "      <td>False</td>\n",
              "      <td>False</td>\n",
              "      <td>False</td>\n",
              "      <td>False</td>\n",
              "    </tr>\n",
              "    <tr>\n",
              "      <th>5</th>\n",
              "      <td>2012-04-09</td>\n",
              "      <td>Spurs</td>\n",
              "      <td>(William) Tony Parker</td>\n",
              "      <td>rest (dnp)</td>\n",
              "      <td>7</td>\n",
              "      <td>2012</td>\n",
              "      <td>2012.0</td>\n",
              "      <td>106</td>\n",
              "      <td>False</td>\n",
              "      <td>False</td>\n",
              "      <td>False</td>\n",
              "      <td>False</td>\n",
              "      <td>False</td>\n",
              "      <td>False</td>\n",
              "      <td>False</td>\n",
              "      <td>False</td>\n",
              "      <td>False</td>\n",
              "      <td>False</td>\n",
              "      <td>False</td>\n",
              "      <td>False</td>\n",
              "      <td>False</td>\n",
              "      <td>False</td>\n",
              "      <td>False</td>\n",
              "      <td>False</td>\n",
              "      <td>False</td>\n",
              "      <td>False</td>\n",
              "      <td>False</td>\n",
              "    </tr>\n",
              "    <tr>\n",
              "      <th>6</th>\n",
              "      <td>2012-11-29</td>\n",
              "      <td>Spurs</td>\n",
              "      <td>(William) Tony Parker</td>\n",
              "      <td>rest (dnp)</td>\n",
              "      <td>2</td>\n",
              "      <td>2012</td>\n",
              "      <td>2013.0</td>\n",
              "      <td>30</td>\n",
              "      <td>False</td>\n",
              "      <td>False</td>\n",
              "      <td>False</td>\n",
              "      <td>False</td>\n",
              "      <td>False</td>\n",
              "      <td>False</td>\n",
              "      <td>False</td>\n",
              "      <td>False</td>\n",
              "      <td>False</td>\n",
              "      <td>False</td>\n",
              "      <td>False</td>\n",
              "      <td>False</td>\n",
              "      <td>False</td>\n",
              "      <td>False</td>\n",
              "      <td>False</td>\n",
              "      <td>False</td>\n",
              "      <td>False</td>\n",
              "      <td>False</td>\n",
              "      <td>False</td>\n",
              "    </tr>\n",
              "    <tr>\n",
              "      <th>7</th>\n",
              "      <td>2013-02-11</td>\n",
              "      <td>Spurs</td>\n",
              "      <td>(William) Tony Parker</td>\n",
              "      <td>knee injury (dnp)</td>\n",
              "      <td>5</td>\n",
              "      <td>2013</td>\n",
              "      <td>2013.0</td>\n",
              "      <td>104</td>\n",
              "      <td>False</td>\n",
              "      <td>True</td>\n",
              "      <td>False</td>\n",
              "      <td>False</td>\n",
              "      <td>False</td>\n",
              "      <td>False</td>\n",
              "      <td>False</td>\n",
              "      <td>False</td>\n",
              "      <td>False</td>\n",
              "      <td>False</td>\n",
              "      <td>False</td>\n",
              "      <td>False</td>\n",
              "      <td>False</td>\n",
              "      <td>False</td>\n",
              "      <td>False</td>\n",
              "      <td>False</td>\n",
              "      <td>False</td>\n",
              "      <td>False</td>\n",
              "      <td>False</td>\n",
              "    </tr>\n",
              "    <tr>\n",
              "      <th>8</th>\n",
              "      <td>2013-02-24</td>\n",
              "      <td>Spurs</td>\n",
              "      <td>(William) Tony Parker</td>\n",
              "      <td>sore triceps (dnp)</td>\n",
              "      <td>5</td>\n",
              "      <td>2013</td>\n",
              "      <td>2013.0</td>\n",
              "      <td>117</td>\n",
              "      <td>False</td>\n",
              "      <td>False</td>\n",
              "      <td>False</td>\n",
              "      <td>False</td>\n",
              "      <td>False</td>\n",
              "      <td>False</td>\n",
              "      <td>False</td>\n",
              "      <td>False</td>\n",
              "      <td>False</td>\n",
              "      <td>False</td>\n",
              "      <td>False</td>\n",
              "      <td>False</td>\n",
              "      <td>False</td>\n",
              "      <td>False</td>\n",
              "      <td>False</td>\n",
              "      <td>False</td>\n",
              "      <td>False</td>\n",
              "      <td>False</td>\n",
              "      <td>False</td>\n",
              "    </tr>\n",
              "    <tr>\n",
              "      <th>9</th>\n",
              "      <td>2013-03-02</td>\n",
              "      <td>Spurs</td>\n",
              "      <td>(William) Tony Parker</td>\n",
              "      <td>sprained left ankle (out indefinitely)</td>\n",
              "      <td>6</td>\n",
              "      <td>2013</td>\n",
              "      <td>2013.0</td>\n",
              "      <td>123</td>\n",
              "      <td>False</td>\n",
              "      <td>False</td>\n",
              "      <td>False</td>\n",
              "      <td>False</td>\n",
              "      <td>True</td>\n",
              "      <td>False</td>\n",
              "      <td>False</td>\n",
              "      <td>False</td>\n",
              "      <td>False</td>\n",
              "      <td>False</td>\n",
              "      <td>False</td>\n",
              "      <td>False</td>\n",
              "      <td>False</td>\n",
              "      <td>False</td>\n",
              "      <td>False</td>\n",
              "      <td>False</td>\n",
              "      <td>False</td>\n",
              "      <td>False</td>\n",
              "      <td>False</td>\n",
              "    </tr>\n",
              "    <tr>\n",
              "      <th>10</th>\n",
              "      <td>2013-04-03</td>\n",
              "      <td>Spurs</td>\n",
              "      <td>(William) Tony Parker</td>\n",
              "      <td>sore left ankle (dnp)</td>\n",
              "      <td>7</td>\n",
              "      <td>2013</td>\n",
              "      <td>2013.0</td>\n",
              "      <td>155</td>\n",
              "      <td>False</td>\n",
              "      <td>False</td>\n",
              "      <td>False</td>\n",
              "      <td>False</td>\n",
              "      <td>True</td>\n",
              "      <td>False</td>\n",
              "      <td>False</td>\n",
              "      <td>False</td>\n",
              "      <td>False</td>\n",
              "      <td>False</td>\n",
              "      <td>False</td>\n",
              "      <td>False</td>\n",
              "      <td>False</td>\n",
              "      <td>False</td>\n",
              "      <td>False</td>\n",
              "      <td>False</td>\n",
              "      <td>False</td>\n",
              "      <td>False</td>\n",
              "      <td>False</td>\n",
              "    </tr>\n",
              "    <tr>\n",
              "      <th>11</th>\n",
              "      <td>2013-04-15</td>\n",
              "      <td>Spurs</td>\n",
              "      <td>(William) Tony Parker</td>\n",
              "      <td>sore neck (dnp)</td>\n",
              "      <td>7</td>\n",
              "      <td>2013</td>\n",
              "      <td>2013.0</td>\n",
              "      <td>167</td>\n",
              "      <td>False</td>\n",
              "      <td>False</td>\n",
              "      <td>False</td>\n",
              "      <td>False</td>\n",
              "      <td>False</td>\n",
              "      <td>False</td>\n",
              "      <td>False</td>\n",
              "      <td>False</td>\n",
              "      <td>False</td>\n",
              "      <td>False</td>\n",
              "      <td>True</td>\n",
              "      <td>False</td>\n",
              "      <td>False</td>\n",
              "      <td>False</td>\n",
              "      <td>False</td>\n",
              "      <td>False</td>\n",
              "      <td>False</td>\n",
              "      <td>False</td>\n",
              "      <td>False</td>\n",
              "    </tr>\n",
              "    <tr>\n",
              "      <th>12</th>\n",
              "      <td>2014-01-19</td>\n",
              "      <td>Spurs</td>\n",
              "      <td>(William) Tony Parker</td>\n",
              "      <td>bruised right shin (dnp)</td>\n",
              "      <td>4</td>\n",
              "      <td>2014</td>\n",
              "      <td>2014.0</td>\n",
              "      <td>82</td>\n",
              "      <td>False</td>\n",
              "      <td>False</td>\n",
              "      <td>False</td>\n",
              "      <td>False</td>\n",
              "      <td>False</td>\n",
              "      <td>False</td>\n",
              "      <td>False</td>\n",
              "      <td>False</td>\n",
              "      <td>False</td>\n",
              "      <td>False</td>\n",
              "      <td>False</td>\n",
              "      <td>False</td>\n",
              "      <td>False</td>\n",
              "      <td>False</td>\n",
              "      <td>False</td>\n",
              "      <td>False</td>\n",
              "      <td>False</td>\n",
              "      <td>False</td>\n",
              "      <td>False</td>\n",
              "    </tr>\n",
              "    <tr>\n",
              "      <th>13</th>\n",
              "      <td>2014-02-12</td>\n",
              "      <td>Spurs</td>\n",
              "      <td>(William) Tony Parker</td>\n",
              "      <td>rest (dnp)</td>\n",
              "      <td>5</td>\n",
              "      <td>2014</td>\n",
              "      <td>2014.0</td>\n",
              "      <td>106</td>\n",
              "      <td>False</td>\n",
              "      <td>False</td>\n",
              "      <td>False</td>\n",
              "      <td>False</td>\n",
              "      <td>False</td>\n",
              "      <td>False</td>\n",
              "      <td>False</td>\n",
              "      <td>False</td>\n",
              "      <td>False</td>\n",
              "      <td>False</td>\n",
              "      <td>False</td>\n",
              "      <td>False</td>\n",
              "      <td>False</td>\n",
              "      <td>False</td>\n",
              "      <td>False</td>\n",
              "      <td>False</td>\n",
              "      <td>False</td>\n",
              "      <td>False</td>\n",
              "      <td>False</td>\n",
              "    </tr>\n",
              "    <tr>\n",
              "      <th>14</th>\n",
              "      <td>2014-03-24</td>\n",
              "      <td>Spurs</td>\n",
              "      <td>(William) Tony Parker</td>\n",
              "      <td>left achilles injury (dnp)</td>\n",
              "      <td>6</td>\n",
              "      <td>2014</td>\n",
              "      <td>2014.0</td>\n",
              "      <td>146</td>\n",
              "      <td>True</td>\n",
              "      <td>False</td>\n",
              "      <td>False</td>\n",
              "      <td>False</td>\n",
              "      <td>False</td>\n",
              "      <td>False</td>\n",
              "      <td>False</td>\n",
              "      <td>False</td>\n",
              "      <td>False</td>\n",
              "      <td>False</td>\n",
              "      <td>False</td>\n",
              "      <td>False</td>\n",
              "      <td>False</td>\n",
              "      <td>False</td>\n",
              "      <td>False</td>\n",
              "      <td>False</td>\n",
              "      <td>False</td>\n",
              "      <td>False</td>\n",
              "      <td>False</td>\n",
              "    </tr>\n",
              "    <tr>\n",
              "      <th>15</th>\n",
              "      <td>2014-12-01</td>\n",
              "      <td>Spurs</td>\n",
              "      <td>(William) Tony Parker</td>\n",
              "      <td>bruised ribs (dtd)</td>\n",
              "      <td>3</td>\n",
              "      <td>2014</td>\n",
              "      <td>2015.0</td>\n",
              "      <td>34</td>\n",
              "      <td>False</td>\n",
              "      <td>False</td>\n",
              "      <td>False</td>\n",
              "      <td>False</td>\n",
              "      <td>False</td>\n",
              "      <td>False</td>\n",
              "      <td>False</td>\n",
              "      <td>False</td>\n",
              "      <td>False</td>\n",
              "      <td>False</td>\n",
              "      <td>False</td>\n",
              "      <td>False</td>\n",
              "      <td>False</td>\n",
              "      <td>False</td>\n",
              "      <td>False</td>\n",
              "      <td>False</td>\n",
              "      <td>False</td>\n",
              "      <td>False</td>\n",
              "      <td>False</td>\n",
              "    </tr>\n",
              "    <tr>\n",
              "      <th>16</th>\n",
              "      <td>2014-12-06</td>\n",
              "      <td>Spurs</td>\n",
              "      <td>(William) Tony Parker</td>\n",
              "      <td>strained left hamstring (dtd)</td>\n",
              "      <td>3</td>\n",
              "      <td>2014</td>\n",
              "      <td>2015.0</td>\n",
              "      <td>39</td>\n",
              "      <td>False</td>\n",
              "      <td>False</td>\n",
              "      <td>False</td>\n",
              "      <td>False</td>\n",
              "      <td>False</td>\n",
              "      <td>False</td>\n",
              "      <td>False</td>\n",
              "      <td>False</td>\n",
              "      <td>True</td>\n",
              "      <td>False</td>\n",
              "      <td>False</td>\n",
              "      <td>False</td>\n",
              "      <td>False</td>\n",
              "      <td>False</td>\n",
              "      <td>False</td>\n",
              "      <td>False</td>\n",
              "      <td>False</td>\n",
              "      <td>False</td>\n",
              "      <td>False</td>\n",
              "    </tr>\n",
              "    <tr>\n",
              "      <th>17</th>\n",
              "      <td>2014-12-26</td>\n",
              "      <td>Spurs</td>\n",
              "      <td>(William) Tony Parker</td>\n",
              "      <td>strained hamstring (dtd)</td>\n",
              "      <td>3</td>\n",
              "      <td>2014</td>\n",
              "      <td>2015.0</td>\n",
              "      <td>59</td>\n",
              "      <td>False</td>\n",
              "      <td>False</td>\n",
              "      <td>False</td>\n",
              "      <td>False</td>\n",
              "      <td>False</td>\n",
              "      <td>False</td>\n",
              "      <td>False</td>\n",
              "      <td>False</td>\n",
              "      <td>True</td>\n",
              "      <td>False</td>\n",
              "      <td>False</td>\n",
              "      <td>False</td>\n",
              "      <td>False</td>\n",
              "      <td>False</td>\n",
              "      <td>False</td>\n",
              "      <td>False</td>\n",
              "      <td>False</td>\n",
              "      <td>False</td>\n",
              "      <td>False</td>\n",
              "    </tr>\n",
              "    <tr>\n",
              "      <th>18</th>\n",
              "      <td>2016-01-20</td>\n",
              "      <td>Spurs</td>\n",
              "      <td>(William) Tony Parker</td>\n",
              "      <td>right hip injury (dtd)</td>\n",
              "      <td>4</td>\n",
              "      <td>2016</td>\n",
              "      <td>2016.0</td>\n",
              "      <td>85</td>\n",
              "      <td>False</td>\n",
              "      <td>False</td>\n",
              "      <td>False</td>\n",
              "      <td>False</td>\n",
              "      <td>False</td>\n",
              "      <td>False</td>\n",
              "      <td>True</td>\n",
              "      <td>False</td>\n",
              "      <td>False</td>\n",
              "      <td>False</td>\n",
              "      <td>False</td>\n",
              "      <td>False</td>\n",
              "      <td>False</td>\n",
              "      <td>False</td>\n",
              "      <td>False</td>\n",
              "      <td>False</td>\n",
              "      <td>False</td>\n",
              "      <td>False</td>\n",
              "      <td>False</td>\n",
              "    </tr>\n",
              "    <tr>\n",
              "      <th>19</th>\n",
              "      <td>2016-02-10</td>\n",
              "      <td>Spurs</td>\n",
              "      <td>(William) Tony Parker</td>\n",
              "      <td>left ankle injury (dtd)</td>\n",
              "      <td>5</td>\n",
              "      <td>2016</td>\n",
              "      <td>2016.0</td>\n",
              "      <td>106</td>\n",
              "      <td>False</td>\n",
              "      <td>False</td>\n",
              "      <td>False</td>\n",
              "      <td>False</td>\n",
              "      <td>True</td>\n",
              "      <td>False</td>\n",
              "      <td>False</td>\n",
              "      <td>False</td>\n",
              "      <td>False</td>\n",
              "      <td>False</td>\n",
              "      <td>False</td>\n",
              "      <td>False</td>\n",
              "      <td>False</td>\n",
              "      <td>False</td>\n",
              "      <td>False</td>\n",
              "      <td>False</td>\n",
              "      <td>False</td>\n",
              "      <td>False</td>\n",
              "      <td>False</td>\n",
              "    </tr>\n",
              "  </tbody>\n",
              "</table>\n",
              "</div>"
            ],
            "text/plain": [
              "         date   team                 player  ... concussion  finger  illness\n",
              "0  2011-02-28  Spurs  (William) Tony Parker  ...      False   False    False\n",
              "1  2011-03-28  Spurs  (William) Tony Parker  ...      False   False    False\n",
              "2  2011-04-12  Spurs  (William) Tony Parker  ...      False   False    False\n",
              "3  2012-02-21  Spurs  (William) Tony Parker  ...      False   False    False\n",
              "4  2012-03-23  Spurs  (William) Tony Parker  ...      False   False    False\n",
              "5  2012-04-09  Spurs  (William) Tony Parker  ...      False   False    False\n",
              "6  2012-11-29  Spurs  (William) Tony Parker  ...      False   False    False\n",
              "7  2013-02-11  Spurs  (William) Tony Parker  ...      False   False    False\n",
              "8  2013-02-24  Spurs  (William) Tony Parker  ...      False   False    False\n",
              "9  2013-03-02  Spurs  (William) Tony Parker  ...      False   False    False\n",
              "10 2013-04-03  Spurs  (William) Tony Parker  ...      False   False    False\n",
              "11 2013-04-15  Spurs  (William) Tony Parker  ...      False   False    False\n",
              "12 2014-01-19  Spurs  (William) Tony Parker  ...      False   False    False\n",
              "13 2014-02-12  Spurs  (William) Tony Parker  ...      False   False    False\n",
              "14 2014-03-24  Spurs  (William) Tony Parker  ...      False   False    False\n",
              "15 2014-12-01  Spurs  (William) Tony Parker  ...      False   False    False\n",
              "16 2014-12-06  Spurs  (William) Tony Parker  ...      False   False    False\n",
              "17 2014-12-26  Spurs  (William) Tony Parker  ...      False   False    False\n",
              "18 2016-01-20  Spurs  (William) Tony Parker  ...      False   False    False\n",
              "19 2016-02-10  Spurs  (William) Tony Parker  ...      False   False    False\n",
              "\n",
              "[20 rows x 27 columns]"
            ]
          },
          "metadata": {
            "tags": []
          },
          "execution_count": 51
        }
      ]
    },
    {
      "cell_type": "code",
      "metadata": {
        "id": "cat2qr9V4crx",
        "colab_type": "code",
        "colab": {}
      },
      "source": [
        "def season(date):\n",
        "  if pd.Timestamp(2010, 10, 25, 12) < date < pd.Timestamp(2011, 4, 14, 12):\n",
        "    return 2011\n",
        "  elif pd.Timestamp(2011, 12, 24, 12) < date < pd.Timestamp(2012, 4, 27, 12):\n",
        "    return 2012\n",
        "  elif pd.Timestamp(2012, 10, 29, 12) < date < pd.Timestamp(2013, 4, 18, 12):\n",
        "    return 2013\n",
        "  elif pd.Timestamp(2013, 10, 28, 12) < date < pd.Timestamp(2014, 4, 17, 12):\n",
        "    return 2014\n",
        "  elif pd.Timestamp(2014, 10, 27, 12) < date < pd.Timestamp(2015, 4, 16, 12):\n",
        "    return 2015\n",
        "  elif pd.Timestamp(2015, 10, 26, 12) < date < pd.Timestamp(2016, 4, 14, 12):\n",
        "    return 2016\n",
        "  elif pd.Timestamp(2016, 10, 24, 12) < date < pd.Timestamp(2017, 4, 13, 12):\n",
        "    return 2017\n",
        "  elif pd.Timestamp(2017, 10, 16, 12) < date < pd.Timestamp(2018, 4, 12, 12):\n",
        "    return 2018\n",
        "  else: \n",
        "    return np.NaN\n",
        "\n",
        "cl_injuries[\"season\"] = cl_injuries[\"date\"].apply(season)"
      ],
      "execution_count": 0,
      "outputs": []
    },
    {
      "cell_type": "code",
      "metadata": {
        "id": "lO-JQfrXv-7y",
        "colab_type": "code",
        "colab": {}
      },
      "source": [
        "cl_injuries = cl_injuries[cl_injuries[\"season\"].isnull() == False]"
      ],
      "execution_count": 0,
      "outputs": []
    },
    {
      "cell_type": "code",
      "metadata": {
        "id": "RGVS35Tv3iFa",
        "colab_type": "code",
        "colab": {
          "base_uri": "https://localhost:8080/",
          "height": 34
        },
        "outputId": "de1ad6c0-fe1f-4a38-e02e-d764a774fc9a"
      },
      "source": [
        "cl_injuries[\"date\"][0].day"
      ],
      "execution_count": 29,
      "outputs": [
        {
          "output_type": "execute_result",
          "data": {
            "text/plain": [
              "28"
            ]
          },
          "metadata": {
            "tags": []
          },
          "execution_count": 29
        }
      ]
    },
    {
      "cell_type": "code",
      "metadata": {
        "id": "nsDYAdyFAfJj",
        "colab_type": "code",
        "colab": {}
      },
      "source": [
        "start_2011 = pd.Timestamp(2010, 10, 25, 12)\n",
        "start_2012 = pd.Timestamp(2011, 12, 24, 12)\n",
        "start_2013 = pd.Timestamp(2012, 10, 29, 12)\n",
        "start_2014 = pd.Timestamp(2013, 10, 28, 12)\n",
        "start_2015 = pd.Timestamp(2014, 10, 27, 12)\n",
        "start_2016 = pd.Timestamp(2015, 10, 26, 12)\n",
        "start_2017 = pd.Timestamp(2016, 10, 24, 12)\n",
        "start_2018 = pd.Timestamp(2017, 10, 16, 12)"
      ],
      "execution_count": 0,
      "outputs": []
    },
    {
      "cell_type": "code",
      "metadata": {
        "id": "BrBUQI6EVKtW",
        "colab_type": "code",
        "colab": {}
      },
      "source": [
        "def days_since_start(season, date):\n",
        "  if season == 2011:\n",
        "    return (date - start_2011).days\n",
        "  elif season == 2012:\n",
        "    return (date - start_2012).days\n",
        "  elif season == 2013:\n",
        "    return (date - start_2013).days\n",
        "  elif season == 2014:\n",
        "    return (date - start_2014).days\n",
        "  elif season == 2015:\n",
        "    return (date - start_2015).days\n",
        "  elif season == 2016:\n",
        "    return (date - start_2016).days\n",
        "  elif season == 2017:\n",
        "    return (date - start_2017).days\n",
        "  elif season == 2018:\n",
        "    return (date - start_2018).days\n",
        "  "
      ],
      "execution_count": 0,
      "outputs": []
    },
    {
      "cell_type": "code",
      "metadata": {
        "id": "BZGTRNK_WucY",
        "colab_type": "code",
        "colab": {}
      },
      "source": [
        "cl_injuries[\"days_since_start\"] = cl_injuries.apply(lambda x: days_since_start(x.season, x.date), axis = 1)"
      ],
      "execution_count": 0,
      "outputs": []
    },
    {
      "cell_type": "code",
      "metadata": {
        "id": "Y9rYZxYFTlK5",
        "colab_type": "code",
        "colab": {
          "base_uri": "https://localhost:8080/",
          "height": 195
        },
        "outputId": "ede4bda8-9872-4dd4-d2ea-bdac75e11070"
      },
      "source": [
        "cl_injuries.head()"
      ],
      "execution_count": 33,
      "outputs": [
        {
          "output_type": "execute_result",
          "data": {
            "text/html": [
              "<div>\n",
              "<style scoped>\n",
              "    .dataframe tbody tr th:only-of-type {\n",
              "        vertical-align: middle;\n",
              "    }\n",
              "\n",
              "    .dataframe tbody tr th {\n",
              "        vertical-align: top;\n",
              "    }\n",
              "\n",
              "    .dataframe thead th {\n",
              "        text-align: right;\n",
              "    }\n",
              "</style>\n",
              "<table border=\"1\" class=\"dataframe\">\n",
              "  <thead>\n",
              "    <tr style=\"text-align: right;\">\n",
              "      <th></th>\n",
              "      <th>date</th>\n",
              "      <th>team</th>\n",
              "      <th>player</th>\n",
              "      <th>notes</th>\n",
              "      <th>month</th>\n",
              "      <th>year</th>\n",
              "      <th>season</th>\n",
              "      <th>days_since_start</th>\n",
              "    </tr>\n",
              "  </thead>\n",
              "  <tbody>\n",
              "    <tr>\n",
              "      <th>0</th>\n",
              "      <td>2011-02-28</td>\n",
              "      <td>Spurs</td>\n",
              "      <td>(William) Tony Parker</td>\n",
              "      <td>strained left calf muscle (out indefinitely)</td>\n",
              "      <td>2</td>\n",
              "      <td>2011</td>\n",
              "      <td>2011.0</td>\n",
              "      <td>125</td>\n",
              "    </tr>\n",
              "    <tr>\n",
              "      <th>1</th>\n",
              "      <td>2011-03-28</td>\n",
              "      <td>Spurs</td>\n",
              "      <td>(William) Tony Parker</td>\n",
              "      <td>bruised left patella (dnp)</td>\n",
              "      <td>3</td>\n",
              "      <td>2011</td>\n",
              "      <td>2011.0</td>\n",
              "      <td>153</td>\n",
              "    </tr>\n",
              "    <tr>\n",
              "      <th>2</th>\n",
              "      <td>2011-04-12</td>\n",
              "      <td>Spurs</td>\n",
              "      <td>(William) Tony Parker</td>\n",
              "      <td>rest (dnp)</td>\n",
              "      <td>4</td>\n",
              "      <td>2011</td>\n",
              "      <td>2011.0</td>\n",
              "      <td>168</td>\n",
              "    </tr>\n",
              "    <tr>\n",
              "      <th>3</th>\n",
              "      <td>2012-02-21</td>\n",
              "      <td>Spurs</td>\n",
              "      <td>(William) Tony Parker</td>\n",
              "      <td>rest (dnp)</td>\n",
              "      <td>2</td>\n",
              "      <td>2012</td>\n",
              "      <td>2012.0</td>\n",
              "      <td>58</td>\n",
              "    </tr>\n",
              "    <tr>\n",
              "      <th>4</th>\n",
              "      <td>2012-03-23</td>\n",
              "      <td>Spurs</td>\n",
              "      <td>(William) Tony Parker</td>\n",
              "      <td>sore left hamstring (dnp)</td>\n",
              "      <td>3</td>\n",
              "      <td>2012</td>\n",
              "      <td>2012.0</td>\n",
              "      <td>89</td>\n",
              "    </tr>\n",
              "  </tbody>\n",
              "</table>\n",
              "</div>"
            ],
            "text/plain": [
              "        date   team                 player  ...  year  season  days_since_start\n",
              "0 2011-02-28  Spurs  (William) Tony Parker  ...  2011  2011.0               125\n",
              "1 2011-03-28  Spurs  (William) Tony Parker  ...  2011  2011.0               153\n",
              "2 2011-04-12  Spurs  (William) Tony Parker  ...  2011  2011.0               168\n",
              "3 2012-02-21  Spurs  (William) Tony Parker  ...  2012  2012.0                58\n",
              "4 2012-03-23  Spurs  (William) Tony Parker  ...  2012  2012.0                89\n",
              "\n",
              "[5 rows x 8 columns]"
            ]
          },
          "metadata": {
            "tags": []
          },
          "execution_count": 33
        }
      ]
    },
    {
      "cell_type": "code",
      "metadata": {
        "id": "TwffVvOYXKzl",
        "colab_type": "code",
        "colab": {}
      },
      "source": [
        "cl_injuries.isnull().sum()"
      ],
      "execution_count": 0,
      "outputs": []
    },
    {
      "cell_type": "markdown",
      "metadata": {
        "id": "NDueYSSpXMI9",
        "colab_type": "text"
      },
      "source": [
        "Now that the data is clean at a baseline, we can get to analysis. For the remainder of the analysis, it'll be useful to separate rest -- which, after all, is not an injury -- with the actual injuries, such that inferences drawn on the data sets are conceptually valid."
      ]
    },
    {
      "cell_type": "code",
      "metadata": {
        "id": "V3W76a5NXFBI",
        "colab_type": "code",
        "colab": {}
      },
      "source": [
        "rest = cl_injuries[cl_injuries[\"notes\"].str.contains(\"rest\") == True]\n",
        "cl_injuries = cl_injuries[cl_injuries[\"notes\"].str.contains(\"rest\") == False].copy()"
      ],
      "execution_count": 0,
      "outputs": []
    },
    {
      "cell_type": "code",
      "metadata": {
        "id": "e-8S6GzM-TFq",
        "colab_type": "code",
        "colab": {
          "base_uri": "https://localhost:8080/",
          "height": 417
        },
        "outputId": "b5605bea-cc5f-49b7-cad4-716cbbd7f122"
      },
      "source": [
        "for w in [\"achilles\", \"knee\", \"foot\", \"hand\", \"ankle\", \"back\", \"hip\",\n",
        "          \"wrist\", \"hamstring\", \"quadriceps\", \"neck\", \"calf\", \"thumb\",\n",
        "          \"elbow\", \"shoulder\", \"groin\", \"concussion\", \"finger\"]:\n",
        "          cl_injuries[w] = cl_injuries[\"notes\"].str.contains(w)\n",
        "cl_injuries.head()"
      ],
      "execution_count": 61,
      "outputs": [
        {
          "output_type": "execute_result",
          "data": {
            "text/html": [
              "<div>\n",
              "<style scoped>\n",
              "    .dataframe tbody tr th:only-of-type {\n",
              "        vertical-align: middle;\n",
              "    }\n",
              "\n",
              "    .dataframe tbody tr th {\n",
              "        vertical-align: top;\n",
              "    }\n",
              "\n",
              "    .dataframe thead th {\n",
              "        text-align: right;\n",
              "    }\n",
              "</style>\n",
              "<table border=\"1\" class=\"dataframe\">\n",
              "  <thead>\n",
              "    <tr style=\"text-align: right;\">\n",
              "      <th></th>\n",
              "      <th>date</th>\n",
              "      <th>team</th>\n",
              "      <th>player</th>\n",
              "      <th>notes</th>\n",
              "      <th>month</th>\n",
              "      <th>year</th>\n",
              "      <th>season</th>\n",
              "      <th>days_since_start</th>\n",
              "      <th>achilles</th>\n",
              "      <th>knee</th>\n",
              "      <th>foot</th>\n",
              "      <th>hand</th>\n",
              "      <th>ankle</th>\n",
              "      <th>back</th>\n",
              "      <th>hip</th>\n",
              "      <th>wrist</th>\n",
              "      <th>hamstring</th>\n",
              "      <th>quadriceps</th>\n",
              "      <th>neck</th>\n",
              "      <th>calf</th>\n",
              "      <th>thumb</th>\n",
              "      <th>elbow</th>\n",
              "      <th>shoulder</th>\n",
              "      <th>groin</th>\n",
              "      <th>concussion</th>\n",
              "      <th>finger</th>\n",
              "      <th>illness</th>\n",
              "    </tr>\n",
              "  </thead>\n",
              "  <tbody>\n",
              "    <tr>\n",
              "      <th>0</th>\n",
              "      <td>2011-02-28</td>\n",
              "      <td>Spurs</td>\n",
              "      <td>(William) Tony Parker</td>\n",
              "      <td>strained left calf muscle (out indefinitely)</td>\n",
              "      <td>5</td>\n",
              "      <td>2011</td>\n",
              "      <td>2011.0</td>\n",
              "      <td>125</td>\n",
              "      <td>False</td>\n",
              "      <td>False</td>\n",
              "      <td>False</td>\n",
              "      <td>False</td>\n",
              "      <td>False</td>\n",
              "      <td>False</td>\n",
              "      <td>False</td>\n",
              "      <td>False</td>\n",
              "      <td>False</td>\n",
              "      <td>False</td>\n",
              "      <td>False</td>\n",
              "      <td>True</td>\n",
              "      <td>False</td>\n",
              "      <td>False</td>\n",
              "      <td>False</td>\n",
              "      <td>False</td>\n",
              "      <td>False</td>\n",
              "      <td>False</td>\n",
              "      <td>False</td>\n",
              "    </tr>\n",
              "    <tr>\n",
              "      <th>1</th>\n",
              "      <td>2011-03-28</td>\n",
              "      <td>Spurs</td>\n",
              "      <td>(William) Tony Parker</td>\n",
              "      <td>bruised left patella (dnp)</td>\n",
              "      <td>6</td>\n",
              "      <td>2011</td>\n",
              "      <td>2011.0</td>\n",
              "      <td>153</td>\n",
              "      <td>False</td>\n",
              "      <td>False</td>\n",
              "      <td>False</td>\n",
              "      <td>False</td>\n",
              "      <td>False</td>\n",
              "      <td>False</td>\n",
              "      <td>False</td>\n",
              "      <td>False</td>\n",
              "      <td>False</td>\n",
              "      <td>False</td>\n",
              "      <td>False</td>\n",
              "      <td>False</td>\n",
              "      <td>False</td>\n",
              "      <td>False</td>\n",
              "      <td>False</td>\n",
              "      <td>False</td>\n",
              "      <td>False</td>\n",
              "      <td>False</td>\n",
              "      <td>False</td>\n",
              "    </tr>\n",
              "    <tr>\n",
              "      <th>4</th>\n",
              "      <td>2012-03-23</td>\n",
              "      <td>Spurs</td>\n",
              "      <td>(William) Tony Parker</td>\n",
              "      <td>sore left hamstring (dnp)</td>\n",
              "      <td>6</td>\n",
              "      <td>2012</td>\n",
              "      <td>2012.0</td>\n",
              "      <td>89</td>\n",
              "      <td>False</td>\n",
              "      <td>False</td>\n",
              "      <td>False</td>\n",
              "      <td>False</td>\n",
              "      <td>False</td>\n",
              "      <td>False</td>\n",
              "      <td>False</td>\n",
              "      <td>False</td>\n",
              "      <td>True</td>\n",
              "      <td>False</td>\n",
              "      <td>False</td>\n",
              "      <td>False</td>\n",
              "      <td>False</td>\n",
              "      <td>False</td>\n",
              "      <td>False</td>\n",
              "      <td>False</td>\n",
              "      <td>False</td>\n",
              "      <td>False</td>\n",
              "      <td>False</td>\n",
              "    </tr>\n",
              "    <tr>\n",
              "      <th>7</th>\n",
              "      <td>2013-02-11</td>\n",
              "      <td>Spurs</td>\n",
              "      <td>(William) Tony Parker</td>\n",
              "      <td>knee injury (dnp)</td>\n",
              "      <td>5</td>\n",
              "      <td>2013</td>\n",
              "      <td>2013.0</td>\n",
              "      <td>104</td>\n",
              "      <td>False</td>\n",
              "      <td>True</td>\n",
              "      <td>False</td>\n",
              "      <td>False</td>\n",
              "      <td>False</td>\n",
              "      <td>False</td>\n",
              "      <td>False</td>\n",
              "      <td>False</td>\n",
              "      <td>False</td>\n",
              "      <td>False</td>\n",
              "      <td>False</td>\n",
              "      <td>False</td>\n",
              "      <td>False</td>\n",
              "      <td>False</td>\n",
              "      <td>False</td>\n",
              "      <td>False</td>\n",
              "      <td>False</td>\n",
              "      <td>False</td>\n",
              "      <td>False</td>\n",
              "    </tr>\n",
              "    <tr>\n",
              "      <th>8</th>\n",
              "      <td>2013-02-24</td>\n",
              "      <td>Spurs</td>\n",
              "      <td>(William) Tony Parker</td>\n",
              "      <td>sore triceps (dnp)</td>\n",
              "      <td>5</td>\n",
              "      <td>2013</td>\n",
              "      <td>2013.0</td>\n",
              "      <td>117</td>\n",
              "      <td>False</td>\n",
              "      <td>False</td>\n",
              "      <td>False</td>\n",
              "      <td>False</td>\n",
              "      <td>False</td>\n",
              "      <td>False</td>\n",
              "      <td>False</td>\n",
              "      <td>False</td>\n",
              "      <td>False</td>\n",
              "      <td>False</td>\n",
              "      <td>False</td>\n",
              "      <td>False</td>\n",
              "      <td>False</td>\n",
              "      <td>False</td>\n",
              "      <td>False</td>\n",
              "      <td>False</td>\n",
              "      <td>False</td>\n",
              "      <td>False</td>\n",
              "      <td>False</td>\n",
              "    </tr>\n",
              "  </tbody>\n",
              "</table>\n",
              "</div>"
            ],
            "text/plain": [
              "        date   team                 player  ... concussion  finger  illness\n",
              "0 2011-02-28  Spurs  (William) Tony Parker  ...      False   False    False\n",
              "1 2011-03-28  Spurs  (William) Tony Parker  ...      False   False    False\n",
              "4 2012-03-23  Spurs  (William) Tony Parker  ...      False   False    False\n",
              "7 2013-02-11  Spurs  (William) Tony Parker  ...      False   False    False\n",
              "8 2013-02-24  Spurs  (William) Tony Parker  ...      False   False    False\n",
              "\n",
              "[5 rows x 27 columns]"
            ]
          },
          "metadata": {
            "tags": []
          },
          "execution_count": 61
        }
      ]
    },
    {
      "cell_type": "code",
      "metadata": {
        "id": "SLFPNRmXCvCg",
        "colab_type": "code",
        "colab": {}
      },
      "source": [
        "illness = [\"illness\", \"virus\", \"flu\", \"gastroenteritis\", \"stomach\", \"poisoning\", \"infection\", \"bronchitis\"]"
      ],
      "execution_count": 0,
      "outputs": []
    },
    {
      "cell_type": "code",
      "metadata": {
        "id": "lF2bNRFsEHPe",
        "colab_type": "code",
        "colab": {}
      },
      "source": [
        "def test_string(word):\n",
        "  return any(x in word for x in illness)\n",
        "\n",
        "cl_injuries[\"illness\"] = cl_injuries[\"notes\"].apply(test_string)"
      ],
      "execution_count": 0,
      "outputs": []
    },
    {
      "cell_type": "code",
      "metadata": {
        "id": "Jkm4SWzSCktH",
        "colab_type": "code",
        "colab": {
          "base_uri": "https://localhost:8080/",
          "height": 353
        },
        "outputId": "a4f83b28-0f76-4ea3-ec9c-1364eb8a8a75"
      },
      "source": [
        "cl_injuries.select_dtypes(include=['bool']).sum()"
      ],
      "execution_count": 64,
      "outputs": [
        {
          "output_type": "execute_result",
          "data": {
            "text/plain": [
              "achilles       85\n",
              "knee          880\n",
              "foot          250\n",
              "hand           70\n",
              "ankle         767\n",
              "back          349\n",
              "hip           159\n",
              "wrist         101\n",
              "hamstring     184\n",
              "quadriceps     39\n",
              "neck           24\n",
              "calf          131\n",
              "thumb          62\n",
              "elbow          62\n",
              "shoulder      194\n",
              "groin         127\n",
              "concussion     80\n",
              "finger         47\n",
              "illness       452\n",
              "dtype: int64"
            ]
          },
          "metadata": {
            "tags": []
          },
          "execution_count": 64
        }
      ]
    },
    {
      "cell_type": "markdown",
      "metadata": {
        "id": "eCVrOyTMVFvk",
        "colab_type": "text"
      },
      "source": [
        "From looking at this, I think it might be more beneficial to group some of these."
      ]
    },
    {
      "cell_type": "markdown",
      "metadata": {
        "id": "RnSHWCSBTzIP",
        "colab_type": "text"
      },
      "source": [
        "To look at how injury rates have changed across seasons, I create a data frame of the sum of each type of injury grouped by season. I then scale the 2012 season to take into account the 2011 NBA lockout, reset the value of 2012 itself, and drop the columns that no longer make conceptual sense once summed."
      ]
    },
    {
      "cell_type": "code",
      "metadata": {
        "id": "MLEkw6lJEaRi",
        "colab_type": "code",
        "colab": {}
      },
      "source": [
        "seasons = cl_injuries.groupby(\"season\", as_index = False).sum()\n",
        "seasons.iloc[1] = round(seasons.iloc[1] * (82/66), 2) \n",
        "seasons[\"season\"][1] = 2012\n",
        "seasons = seasons.drop([\"month\", \"year\", \"days_since_start\"], axis = 1)"
      ],
      "execution_count": 0,
      "outputs": []
    },
    {
      "cell_type": "code",
      "metadata": {
        "id": "tgLgsEYaGMHM",
        "colab_type": "code",
        "colab": {
          "base_uri": "https://localhost:8080/",
          "height": 284
        },
        "outputId": "66be4648-ded4-45af-d6a4-7cd0346d6975"
      },
      "source": [
        "seasons.head(8)"
      ],
      "execution_count": 76,
      "outputs": [
        {
          "output_type": "execute_result",
          "data": {
            "text/html": [
              "<div>\n",
              "<style scoped>\n",
              "    .dataframe tbody tr th:only-of-type {\n",
              "        vertical-align: middle;\n",
              "    }\n",
              "\n",
              "    .dataframe tbody tr th {\n",
              "        vertical-align: top;\n",
              "    }\n",
              "\n",
              "    .dataframe thead th {\n",
              "        text-align: right;\n",
              "    }\n",
              "</style>\n",
              "<table border=\"1\" class=\"dataframe\">\n",
              "  <thead>\n",
              "    <tr style=\"text-align: right;\">\n",
              "      <th></th>\n",
              "      <th>season</th>\n",
              "      <th>achilles</th>\n",
              "      <th>knee</th>\n",
              "      <th>foot</th>\n",
              "      <th>hand</th>\n",
              "      <th>ankle</th>\n",
              "      <th>back</th>\n",
              "      <th>hip</th>\n",
              "      <th>wrist</th>\n",
              "      <th>hamstring</th>\n",
              "      <th>quadriceps</th>\n",
              "      <th>neck</th>\n",
              "      <th>calf</th>\n",
              "      <th>thumb</th>\n",
              "      <th>elbow</th>\n",
              "      <th>shoulder</th>\n",
              "      <th>groin</th>\n",
              "      <th>concussion</th>\n",
              "      <th>finger</th>\n",
              "      <th>illness</th>\n",
              "    </tr>\n",
              "  </thead>\n",
              "  <tbody>\n",
              "    <tr>\n",
              "      <th>0</th>\n",
              "      <td>2011.0</td>\n",
              "      <td>6.00</td>\n",
              "      <td>102.00</td>\n",
              "      <td>39.00</td>\n",
              "      <td>1.00</td>\n",
              "      <td>72.0</td>\n",
              "      <td>39.00</td>\n",
              "      <td>11.00</td>\n",
              "      <td>14.00</td>\n",
              "      <td>15.00</td>\n",
              "      <td>7.00</td>\n",
              "      <td>2.0</td>\n",
              "      <td>13.00</td>\n",
              "      <td>7.00</td>\n",
              "      <td>6.0</td>\n",
              "      <td>14.00</td>\n",
              "      <td>13.00</td>\n",
              "      <td>5.00</td>\n",
              "      <td>5.00</td>\n",
              "      <td>49.00</td>\n",
              "    </tr>\n",
              "    <tr>\n",
              "      <th>1</th>\n",
              "      <td>2012.0</td>\n",
              "      <td>14.91</td>\n",
              "      <td>119.27</td>\n",
              "      <td>38.52</td>\n",
              "      <td>4.97</td>\n",
              "      <td>123.0</td>\n",
              "      <td>60.88</td>\n",
              "      <td>18.64</td>\n",
              "      <td>11.18</td>\n",
              "      <td>24.85</td>\n",
              "      <td>6.21</td>\n",
              "      <td>0.0</td>\n",
              "      <td>17.39</td>\n",
              "      <td>4.97</td>\n",
              "      <td>8.7</td>\n",
              "      <td>33.55</td>\n",
              "      <td>37.27</td>\n",
              "      <td>16.15</td>\n",
              "      <td>6.21</td>\n",
              "      <td>62.12</td>\n",
              "    </tr>\n",
              "    <tr>\n",
              "      <th>2</th>\n",
              "      <td>2013.0</td>\n",
              "      <td>7.00</td>\n",
              "      <td>123.00</td>\n",
              "      <td>37.00</td>\n",
              "      <td>11.00</td>\n",
              "      <td>108.0</td>\n",
              "      <td>45.00</td>\n",
              "      <td>22.00</td>\n",
              "      <td>5.00</td>\n",
              "      <td>23.00</td>\n",
              "      <td>6.00</td>\n",
              "      <td>7.0</td>\n",
              "      <td>17.00</td>\n",
              "      <td>9.00</td>\n",
              "      <td>14.0</td>\n",
              "      <td>27.00</td>\n",
              "      <td>19.00</td>\n",
              "      <td>10.00</td>\n",
              "      <td>10.00</td>\n",
              "      <td>67.00</td>\n",
              "    </tr>\n",
              "    <tr>\n",
              "      <th>3</th>\n",
              "      <td>2014.0</td>\n",
              "      <td>9.00</td>\n",
              "      <td>143.00</td>\n",
              "      <td>38.00</td>\n",
              "      <td>14.00</td>\n",
              "      <td>110.0</td>\n",
              "      <td>53.00</td>\n",
              "      <td>14.00</td>\n",
              "      <td>15.00</td>\n",
              "      <td>31.00</td>\n",
              "      <td>4.00</td>\n",
              "      <td>4.0</td>\n",
              "      <td>21.00</td>\n",
              "      <td>5.00</td>\n",
              "      <td>7.0</td>\n",
              "      <td>19.00</td>\n",
              "      <td>13.00</td>\n",
              "      <td>2.00</td>\n",
              "      <td>5.00</td>\n",
              "      <td>65.00</td>\n",
              "    </tr>\n",
              "    <tr>\n",
              "      <th>4</th>\n",
              "      <td>2015.0</td>\n",
              "      <td>12.00</td>\n",
              "      <td>78.00</td>\n",
              "      <td>18.00</td>\n",
              "      <td>12.00</td>\n",
              "      <td>95.0</td>\n",
              "      <td>47.00</td>\n",
              "      <td>23.00</td>\n",
              "      <td>12.00</td>\n",
              "      <td>22.00</td>\n",
              "      <td>3.00</td>\n",
              "      <td>3.0</td>\n",
              "      <td>16.00</td>\n",
              "      <td>7.00</td>\n",
              "      <td>11.0</td>\n",
              "      <td>27.00</td>\n",
              "      <td>15.00</td>\n",
              "      <td>11.00</td>\n",
              "      <td>5.00</td>\n",
              "      <td>58.00</td>\n",
              "    </tr>\n",
              "    <tr>\n",
              "      <th>5</th>\n",
              "      <td>2016.0</td>\n",
              "      <td>12.00</td>\n",
              "      <td>115.00</td>\n",
              "      <td>32.00</td>\n",
              "      <td>6.00</td>\n",
              "      <td>82.0</td>\n",
              "      <td>53.00</td>\n",
              "      <td>26.00</td>\n",
              "      <td>10.00</td>\n",
              "      <td>24.00</td>\n",
              "      <td>4.00</td>\n",
              "      <td>2.0</td>\n",
              "      <td>16.00</td>\n",
              "      <td>9.00</td>\n",
              "      <td>4.0</td>\n",
              "      <td>37.00</td>\n",
              "      <td>12.00</td>\n",
              "      <td>14.00</td>\n",
              "      <td>7.00</td>\n",
              "      <td>61.00</td>\n",
              "    </tr>\n",
              "    <tr>\n",
              "      <th>6</th>\n",
              "      <td>2017.0</td>\n",
              "      <td>16.00</td>\n",
              "      <td>111.00</td>\n",
              "      <td>32.00</td>\n",
              "      <td>10.00</td>\n",
              "      <td>97.0</td>\n",
              "      <td>30.00</td>\n",
              "      <td>28.00</td>\n",
              "      <td>19.00</td>\n",
              "      <td>33.00</td>\n",
              "      <td>5.00</td>\n",
              "      <td>1.0</td>\n",
              "      <td>22.00</td>\n",
              "      <td>13.00</td>\n",
              "      <td>5.0</td>\n",
              "      <td>19.00</td>\n",
              "      <td>14.00</td>\n",
              "      <td>11.00</td>\n",
              "      <td>7.00</td>\n",
              "      <td>61.00</td>\n",
              "    </tr>\n",
              "    <tr>\n",
              "      <th>7</th>\n",
              "      <td>2018.0</td>\n",
              "      <td>11.00</td>\n",
              "      <td>112.00</td>\n",
              "      <td>23.00</td>\n",
              "      <td>12.00</td>\n",
              "      <td>104.0</td>\n",
              "      <td>33.00</td>\n",
              "      <td>20.00</td>\n",
              "      <td>17.00</td>\n",
              "      <td>16.00</td>\n",
              "      <td>5.00</td>\n",
              "      <td>5.0</td>\n",
              "      <td>12.00</td>\n",
              "      <td>8.00</td>\n",
              "      <td>8.0</td>\n",
              "      <td>24.00</td>\n",
              "      <td>11.00</td>\n",
              "      <td>14.00</td>\n",
              "      <td>3.00</td>\n",
              "      <td>41.00</td>\n",
              "    </tr>\n",
              "  </tbody>\n",
              "</table>\n",
              "</div>"
            ],
            "text/plain": [
              "   season  achilles    knee   foot  ...  groin  concussion  finger  illness\n",
              "0  2011.0      6.00  102.00  39.00  ...  13.00        5.00    5.00    49.00\n",
              "1  2012.0     14.91  119.27  38.52  ...  37.27       16.15    6.21    62.12\n",
              "2  2013.0      7.00  123.00  37.00  ...  19.00       10.00   10.00    67.00\n",
              "3  2014.0      9.00  143.00  38.00  ...  13.00        2.00    5.00    65.00\n",
              "4  2015.0     12.00   78.00  18.00  ...  15.00       11.00    5.00    58.00\n",
              "5  2016.0     12.00  115.00  32.00  ...  12.00       14.00    7.00    61.00\n",
              "6  2017.0     16.00  111.00  32.00  ...  14.00       11.00    7.00    61.00\n",
              "7  2018.0     11.00  112.00  23.00  ...  11.00       14.00    3.00    41.00\n",
              "\n",
              "[8 rows x 20 columns]"
            ]
          },
          "metadata": {
            "tags": []
          },
          "execution_count": 76
        }
      ]
    },
    {
      "cell_type": "code",
      "metadata": {
        "id": "eWr2gnz1E6MI",
        "colab_type": "code",
        "colab": {}
      },
      "source": [
        "seasonal_totals = pd.DataFrame(cl_injuries[\"season\"].value_counts())\n",
        "seasonal_totals = seasonal_totals.reset_index()\n",
        "seasonal_totals.columns = [\"season\", \"injuries\"]\n",
        "seasonal_totals = seasonal_totals.sort_values(by = \"season\")"
      ],
      "execution_count": 0,
      "outputs": []
    },
    {
      "cell_type": "code",
      "metadata": {
        "id": "gcUNc58JbMVy",
        "colab_type": "code",
        "colab": {
          "base_uri": "https://localhost:8080/",
          "height": 284
        },
        "outputId": "2fbc0c8a-fa27-4b4c-ce63-37c5e427e860"
      },
      "source": [
        "seasonal_totals"
      ],
      "execution_count": 91,
      "outputs": [
        {
          "output_type": "execute_result",
          "data": {
            "text/html": [
              "<div>\n",
              "<style scoped>\n",
              "    .dataframe tbody tr th:only-of-type {\n",
              "        vertical-align: middle;\n",
              "    }\n",
              "\n",
              "    .dataframe tbody tr th {\n",
              "        vertical-align: top;\n",
              "    }\n",
              "\n",
              "    .dataframe thead th {\n",
              "        text-align: right;\n",
              "    }\n",
              "</style>\n",
              "<table border=\"1\" class=\"dataframe\">\n",
              "  <thead>\n",
              "    <tr style=\"text-align: right;\">\n",
              "      <th></th>\n",
              "      <th>season</th>\n",
              "      <th>injuries</th>\n",
              "    </tr>\n",
              "  </thead>\n",
              "  <tbody>\n",
              "    <tr>\n",
              "      <th>7</th>\n",
              "      <td>2011.0</td>\n",
              "      <td>457</td>\n",
              "    </tr>\n",
              "    <tr>\n",
              "      <th>4</th>\n",
              "      <td>2012.0</td>\n",
              "      <td>556</td>\n",
              "    </tr>\n",
              "    <tr>\n",
              "      <th>2</th>\n",
              "      <td>2013.0</td>\n",
              "      <td>595</td>\n",
              "    </tr>\n",
              "    <tr>\n",
              "      <th>0</th>\n",
              "      <td>2014.0</td>\n",
              "      <td>625</td>\n",
              "    </tr>\n",
              "    <tr>\n",
              "      <th>6</th>\n",
              "      <td>2015.0</td>\n",
              "      <td>540</td>\n",
              "    </tr>\n",
              "    <tr>\n",
              "      <th>1</th>\n",
              "      <td>2016.0</td>\n",
              "      <td>608</td>\n",
              "    </tr>\n",
              "    <tr>\n",
              "      <th>3</th>\n",
              "      <td>2017.0</td>\n",
              "      <td>585</td>\n",
              "    </tr>\n",
              "    <tr>\n",
              "      <th>5</th>\n",
              "      <td>2018.0</td>\n",
              "      <td>546</td>\n",
              "    </tr>\n",
              "  </tbody>\n",
              "</table>\n",
              "</div>"
            ],
            "text/plain": [
              "   season  injuries\n",
              "7  2011.0       457\n",
              "4  2012.0       556\n",
              "2  2013.0       595\n",
              "0  2014.0       625\n",
              "6  2015.0       540\n",
              "1  2016.0       608\n",
              "3  2017.0       585\n",
              "5  2018.0       546"
            ]
          },
          "metadata": {
            "tags": []
          },
          "execution_count": 91
        }
      ]
    },
    {
      "cell_type": "code",
      "metadata": {
        "id": "jEiwm3wiFGMV",
        "colab_type": "code",
        "colab": {
          "base_uri": "https://localhost:8080/",
          "height": 690
        },
        "outputId": "6e4e1c84-c8ad-4e55-d95d-630c2b2d2bd4"
      },
      "source": [
        "cl_injuries[\"month_of_season\"].value_counts()\n",
        "# definitely want to strip rest from this and do it by season\n",
        "#frequency of different injuries by year. \n",
        "#perhaps simply strip out all offseason injuries so that 2010 and 2018 can be \n",
        "# compared on the same baseline. these are \"procedures\" not injuries.\n",
        "# 2012 - lockout season - prorate"
      ],
      "execution_count": 42,
      "outputs": [
        {
          "output_type": "error",
          "ename": "KeyError",
          "evalue": "ignored",
          "traceback": [
            "\u001b[0;31m---------------------------------------------------------------------------\u001b[0m",
            "\u001b[0;31mKeyError\u001b[0m                                  Traceback (most recent call last)",
            "\u001b[0;32m/usr/local/lib/python3.6/dist-packages/pandas/core/indexes/base.py\u001b[0m in \u001b[0;36mget_loc\u001b[0;34m(self, key, method, tolerance)\u001b[0m\n\u001b[1;32m   2896\u001b[0m             \u001b[0;32mtry\u001b[0m\u001b[0;34m:\u001b[0m\u001b[0;34m\u001b[0m\u001b[0;34m\u001b[0m\u001b[0m\n\u001b[0;32m-> 2897\u001b[0;31m                 \u001b[0;32mreturn\u001b[0m \u001b[0mself\u001b[0m\u001b[0;34m.\u001b[0m\u001b[0m_engine\u001b[0m\u001b[0;34m.\u001b[0m\u001b[0mget_loc\u001b[0m\u001b[0;34m(\u001b[0m\u001b[0mkey\u001b[0m\u001b[0;34m)\u001b[0m\u001b[0;34m\u001b[0m\u001b[0;34m\u001b[0m\u001b[0m\n\u001b[0m\u001b[1;32m   2898\u001b[0m             \u001b[0;32mexcept\u001b[0m \u001b[0mKeyError\u001b[0m\u001b[0;34m:\u001b[0m\u001b[0;34m\u001b[0m\u001b[0;34m\u001b[0m\u001b[0m\n",
            "\u001b[0;32mpandas/_libs/index.pyx\u001b[0m in \u001b[0;36mpandas._libs.index.IndexEngine.get_loc\u001b[0;34m()\u001b[0m\n",
            "\u001b[0;32mpandas/_libs/index.pyx\u001b[0m in \u001b[0;36mpandas._libs.index.IndexEngine.get_loc\u001b[0;34m()\u001b[0m\n",
            "\u001b[0;32mpandas/_libs/hashtable_class_helper.pxi\u001b[0m in \u001b[0;36mpandas._libs.hashtable.PyObjectHashTable.get_item\u001b[0;34m()\u001b[0m\n",
            "\u001b[0;32mpandas/_libs/hashtable_class_helper.pxi\u001b[0m in \u001b[0;36mpandas._libs.hashtable.PyObjectHashTable.get_item\u001b[0;34m()\u001b[0m\n",
            "\u001b[0;31mKeyError\u001b[0m: 'month_of_season'",
            "\nDuring handling of the above exception, another exception occurred:\n",
            "\u001b[0;31mKeyError\u001b[0m                                  Traceback (most recent call last)",
            "\u001b[0;32m<ipython-input-42-9065ea0b6dcd>\u001b[0m in \u001b[0;36m<module>\u001b[0;34m()\u001b[0m\n\u001b[0;32m----> 1\u001b[0;31m \u001b[0mcl_injuries\u001b[0m\u001b[0;34m[\u001b[0m\u001b[0;34m\"month_of_season\"\u001b[0m\u001b[0;34m]\u001b[0m\u001b[0;34m.\u001b[0m\u001b[0mvalue_counts\u001b[0m\u001b[0;34m(\u001b[0m\u001b[0;34m)\u001b[0m\u001b[0;34m\u001b[0m\u001b[0;34m\u001b[0m\u001b[0m\n\u001b[0m\u001b[1;32m      2\u001b[0m \u001b[0;31m# definitely want to strip rest from this and do it by season\u001b[0m\u001b[0;34m\u001b[0m\u001b[0;34m\u001b[0m\u001b[0;34m\u001b[0m\u001b[0m\n\u001b[1;32m      3\u001b[0m \u001b[0;31m#frequency of different injuries by year.\u001b[0m\u001b[0;34m\u001b[0m\u001b[0;34m\u001b[0m\u001b[0;34m\u001b[0m\u001b[0m\n\u001b[1;32m      4\u001b[0m \u001b[0;31m#perhaps simply strip out all offseason injuries so that 2010 and 2018 can be\u001b[0m\u001b[0;34m\u001b[0m\u001b[0;34m\u001b[0m\u001b[0;34m\u001b[0m\u001b[0m\n\u001b[1;32m      5\u001b[0m \u001b[0;31m# compared on the same baseline. these are \"procedures\" not injuries.\u001b[0m\u001b[0;34m\u001b[0m\u001b[0;34m\u001b[0m\u001b[0;34m\u001b[0m\u001b[0m\n",
            "\u001b[0;32m/usr/local/lib/python3.6/dist-packages/pandas/core/frame.py\u001b[0m in \u001b[0;36m__getitem__\u001b[0;34m(self, key)\u001b[0m\n\u001b[1;32m   2993\u001b[0m             \u001b[0;32mif\u001b[0m \u001b[0mself\u001b[0m\u001b[0;34m.\u001b[0m\u001b[0mcolumns\u001b[0m\u001b[0;34m.\u001b[0m\u001b[0mnlevels\u001b[0m \u001b[0;34m>\u001b[0m \u001b[0;36m1\u001b[0m\u001b[0;34m:\u001b[0m\u001b[0;34m\u001b[0m\u001b[0;34m\u001b[0m\u001b[0m\n\u001b[1;32m   2994\u001b[0m                 \u001b[0;32mreturn\u001b[0m \u001b[0mself\u001b[0m\u001b[0;34m.\u001b[0m\u001b[0m_getitem_multilevel\u001b[0m\u001b[0;34m(\u001b[0m\u001b[0mkey\u001b[0m\u001b[0;34m)\u001b[0m\u001b[0;34m\u001b[0m\u001b[0;34m\u001b[0m\u001b[0m\n\u001b[0;32m-> 2995\u001b[0;31m             \u001b[0mindexer\u001b[0m \u001b[0;34m=\u001b[0m \u001b[0mself\u001b[0m\u001b[0;34m.\u001b[0m\u001b[0mcolumns\u001b[0m\u001b[0;34m.\u001b[0m\u001b[0mget_loc\u001b[0m\u001b[0;34m(\u001b[0m\u001b[0mkey\u001b[0m\u001b[0;34m)\u001b[0m\u001b[0;34m\u001b[0m\u001b[0;34m\u001b[0m\u001b[0m\n\u001b[0m\u001b[1;32m   2996\u001b[0m             \u001b[0;32mif\u001b[0m \u001b[0mis_integer\u001b[0m\u001b[0;34m(\u001b[0m\u001b[0mindexer\u001b[0m\u001b[0;34m)\u001b[0m\u001b[0;34m:\u001b[0m\u001b[0;34m\u001b[0m\u001b[0;34m\u001b[0m\u001b[0m\n\u001b[1;32m   2997\u001b[0m                 \u001b[0mindexer\u001b[0m \u001b[0;34m=\u001b[0m \u001b[0;34m[\u001b[0m\u001b[0mindexer\u001b[0m\u001b[0;34m]\u001b[0m\u001b[0;34m\u001b[0m\u001b[0;34m\u001b[0m\u001b[0m\n",
            "\u001b[0;32m/usr/local/lib/python3.6/dist-packages/pandas/core/indexes/base.py\u001b[0m in \u001b[0;36mget_loc\u001b[0;34m(self, key, method, tolerance)\u001b[0m\n\u001b[1;32m   2897\u001b[0m                 \u001b[0;32mreturn\u001b[0m \u001b[0mself\u001b[0m\u001b[0;34m.\u001b[0m\u001b[0m_engine\u001b[0m\u001b[0;34m.\u001b[0m\u001b[0mget_loc\u001b[0m\u001b[0;34m(\u001b[0m\u001b[0mkey\u001b[0m\u001b[0;34m)\u001b[0m\u001b[0;34m\u001b[0m\u001b[0;34m\u001b[0m\u001b[0m\n\u001b[1;32m   2898\u001b[0m             \u001b[0;32mexcept\u001b[0m \u001b[0mKeyError\u001b[0m\u001b[0;34m:\u001b[0m\u001b[0;34m\u001b[0m\u001b[0;34m\u001b[0m\u001b[0m\n\u001b[0;32m-> 2899\u001b[0;31m                 \u001b[0;32mreturn\u001b[0m \u001b[0mself\u001b[0m\u001b[0;34m.\u001b[0m\u001b[0m_engine\u001b[0m\u001b[0;34m.\u001b[0m\u001b[0mget_loc\u001b[0m\u001b[0;34m(\u001b[0m\u001b[0mself\u001b[0m\u001b[0;34m.\u001b[0m\u001b[0m_maybe_cast_indexer\u001b[0m\u001b[0;34m(\u001b[0m\u001b[0mkey\u001b[0m\u001b[0;34m)\u001b[0m\u001b[0;34m)\u001b[0m\u001b[0;34m\u001b[0m\u001b[0;34m\u001b[0m\u001b[0m\n\u001b[0m\u001b[1;32m   2900\u001b[0m         \u001b[0mindexer\u001b[0m \u001b[0;34m=\u001b[0m \u001b[0mself\u001b[0m\u001b[0;34m.\u001b[0m\u001b[0mget_indexer\u001b[0m\u001b[0;34m(\u001b[0m\u001b[0;34m[\u001b[0m\u001b[0mkey\u001b[0m\u001b[0;34m]\u001b[0m\u001b[0;34m,\u001b[0m \u001b[0mmethod\u001b[0m\u001b[0;34m=\u001b[0m\u001b[0mmethod\u001b[0m\u001b[0;34m,\u001b[0m \u001b[0mtolerance\u001b[0m\u001b[0;34m=\u001b[0m\u001b[0mtolerance\u001b[0m\u001b[0;34m)\u001b[0m\u001b[0;34m\u001b[0m\u001b[0;34m\u001b[0m\u001b[0m\n\u001b[1;32m   2901\u001b[0m         \u001b[0;32mif\u001b[0m \u001b[0mindexer\u001b[0m\u001b[0;34m.\u001b[0m\u001b[0mndim\u001b[0m \u001b[0;34m>\u001b[0m \u001b[0;36m1\u001b[0m \u001b[0;32mor\u001b[0m \u001b[0mindexer\u001b[0m\u001b[0;34m.\u001b[0m\u001b[0msize\u001b[0m \u001b[0;34m>\u001b[0m \u001b[0;36m1\u001b[0m\u001b[0;34m:\u001b[0m\u001b[0;34m\u001b[0m\u001b[0;34m\u001b[0m\u001b[0m\n",
            "\u001b[0;32mpandas/_libs/index.pyx\u001b[0m in \u001b[0;36mpandas._libs.index.IndexEngine.get_loc\u001b[0;34m()\u001b[0m\n",
            "\u001b[0;32mpandas/_libs/index.pyx\u001b[0m in \u001b[0;36mpandas._libs.index.IndexEngine.get_loc\u001b[0;34m()\u001b[0m\n",
            "\u001b[0;32mpandas/_libs/hashtable_class_helper.pxi\u001b[0m in \u001b[0;36mpandas._libs.hashtable.PyObjectHashTable.get_item\u001b[0;34m()\u001b[0m\n",
            "\u001b[0;32mpandas/_libs/hashtable_class_helper.pxi\u001b[0m in \u001b[0;36mpandas._libs.hashtable.PyObjectHashTable.get_item\u001b[0;34m()\u001b[0m\n",
            "\u001b[0;31mKeyError\u001b[0m: 'month_of_season'"
          ]
        }
      ]
    },
    {
      "cell_type": "code",
      "metadata": {
        "id": "cbzfxbo1N6M5",
        "colab_type": "code",
        "colab": {}
      },
      "source": [
        ""
      ],
      "execution_count": 0,
      "outputs": []
    },
    {
      "cell_type": "code",
      "metadata": {
        "id": "__9BpvjeDpgn",
        "colab_type": "code",
        "colab": {}
      },
      "source": [
        "rest.head()"
      ],
      "execution_count": 0,
      "outputs": []
    },
    {
      "cell_type": "code",
      "metadata": {
        "id": "HZZ4dnNuHgAE",
        "colab_type": "code",
        "colab": {}
      },
      "source": [
        "just_injuries[\"player\"].value_counts().head(10)"
      ],
      "execution_count": 0,
      "outputs": []
    },
    {
      "cell_type": "code",
      "metadata": {
        "id": "jFypVJcYHrBz",
        "colab_type": "code",
        "colab": {}
      },
      "source": [
        "rest[\"player\"].value_counts().head(10)"
      ],
      "execution_count": 0,
      "outputs": []
    },
    {
      "cell_type": "code",
      "metadata": {
        "id": "nC1Xx7e-H0RD",
        "colab_type": "code",
        "colab": {}
      },
      "source": [
        "just_injuries[\"team\"].value_counts()"
      ],
      "execution_count": 0,
      "outputs": []
    },
    {
      "cell_type": "code",
      "metadata": {
        "id": "d3OOA09QIVNn",
        "colab_type": "code",
        "colab": {}
      },
      "source": [
        "rest[\"team\"].value_counts()"
      ],
      "execution_count": 0,
      "outputs": []
    },
    {
      "cell_type": "code",
      "metadata": {
        "id": "ezqAJPwJIchF",
        "colab_type": "code",
        "colab": {}
      },
      "source": [
        "sns.distplot(rest[\"season\"])"
      ],
      "execution_count": 0,
      "outputs": []
    },
    {
      "cell_type": "code",
      "metadata": {
        "id": "4JPlkXHm6kJV",
        "colab_type": "code",
        "colab": {}
      },
      "source": [
        "rest[\"season\"].value_counts()"
      ],
      "execution_count": 0,
      "outputs": []
    }
  ]
}